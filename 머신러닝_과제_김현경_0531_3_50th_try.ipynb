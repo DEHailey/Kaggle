{
  "nbformat": 4,
  "nbformat_minor": 0,
  "metadata": {
    "colab": {
      "provenance": [],
      "gpuType": "T4",
      "include_colab_link": true
    },
    "kernelspec": {
      "name": "python3",
      "display_name": "Python 3"
    },
    "language_info": {
      "name": "python"
    },
    "accelerator": "GPU",
    "gpuClass": "standard"
  },
  "cells": [
    {
      "cell_type": "markdown",
      "metadata": {
        "id": "view-in-github",
        "colab_type": "text"
      },
      "source": [
        "<a href=\"https://colab.research.google.com/github/DEHailey/Kaggle/blob/main/%EB%A8%B8%EC%8B%A0%EB%9F%AC%EB%8B%9D_%EA%B3%BC%EC%A0%9C_%EA%B9%80%ED%98%84%EA%B2%BD_0531_3_50th_try.ipynb\" target=\"_parent\"><img src=\"https://colab.research.google.com/assets/colab-badge.svg\" alt=\"Open In Colab\"/></a>"
      ]
    },
    {
      "cell_type": "markdown",
      "source": [
        "## 문제 정의\n",
        "- 통신사의 고객 유지를 위해 고객 이탈을 예측하는 머신러닝 모델 개발하기\n",
        "- 고객의 개인정보및 가입정보를 입력으로 하여 이탈 여부를 분류하는 이진 분류 문제\n",
        "    - 평가지표: AUC\n",
        "- 베이스라인 코드를 개선하여 모델의 예측 성능을 높여 주세요!!\n",
        "    - 베이스라인 코드실행시 Public Score(AUC): 0.82182\n",
        "\n",
        "\n"
      ],
      "metadata": {
        "id": "IxdV38Mc8ZiG"
      }
    },
    {
      "cell_type": "markdown",
      "source": [
        "- 통신사 고객 이탈 여부 데이터셋 다운로드 받아 구글드라이브에 올리기\n",
        "    - 학습 데이터: https://drive.google.com/file/d/1dF_pTpMLbLNJ7gcN0f7LqR-qyze2kLFR/view?usp=sharing\n",
        "    - 테스트 데이터: https://drive.google.com/file/d/1aUEQvsRul_5VnmPMqYrQVu-eqI2Fl3Z8/view?usp=sharing\n",
        "    - 제출 파일 양식: https://drive.google.com/file/d/1d7An7Ab07df62bsEjChkdz5t_MzuEocF/view?usp=sharing"
      ],
      "metadata": {
        "id": "21bNxV_SkaUR"
      }
    },
    {
      "cell_type": "markdown",
      "source": [
        "- 구글 드라이브 연결"
      ],
      "metadata": {
        "id": "DckgU96wlAo-"
      }
    },
    {
      "cell_type": "code",
      "source": [
        "from google.colab import drive\n",
        "drive.mount('/content/drive')"
      ],
      "metadata": {
        "colab": {
          "base_uri": "https://localhost:8080/"
        },
        "id": "hActVTmZkyir",
        "outputId": "1498f898-3914-465a-bfa5-59269ee27b70"
      },
      "execution_count": null,
      "outputs": [
        {
          "output_type": "stream",
          "name": "stdout",
          "text": [
            "Drive already mounted at /content/drive; to attempt to forcibly remount, call drive.mount(\"/content/drive\", force_remount=True).\n"
          ]
        }
      ]
    },
    {
      "cell_type": "markdown",
      "source": [
        "- 데이터 경로 변수\n"
      ],
      "metadata": {
        "id": "1qTVFdI1lGfA"
      }
    },
    {
      "cell_type": "code",
      "source": [
        "DATA_PATH = \"/content/drive/MyDrive/머신러닝/data/\"\n",
        "DATA_PATH"
      ],
      "metadata": {
        "colab": {
          "base_uri": "https://localhost:8080/",
          "height": 35
        },
        "id": "KWm3HBpckygI",
        "outputId": "451b8469-f981-4e57-dd68-1895e76b0a67"
      },
      "execution_count": null,
      "outputs": [
        {
          "output_type": "execute_result",
          "data": {
            "text/plain": [
              "'/content/drive/MyDrive/머신러닝/data/'"
            ],
            "application/vnd.google.colaboratory.intrinsic+json": {
              "type": "string"
            }
          },
          "metadata": {},
          "execution_count": 2
        }
      ]
    },
    {
      "cell_type": "markdown",
      "source": [
        "- 시드값"
      ],
      "metadata": {
        "id": "KF-T3f3mjhmz"
      }
    },
    {
      "cell_type": "code",
      "source": [
        "SEED = 42"
      ],
      "metadata": {
        "id": "xFY6QrhAjgJr"
      },
      "execution_count": null,
      "outputs": []
    },
    {
      "cell_type": "markdown",
      "source": [
        "- 데이터 불러오기"
      ],
      "metadata": {
        "id": "meWDc11XluKY"
      }
    },
    {
      "cell_type": "code",
      "source": [
        "import pandas as pd\n",
        "import numpy as np\n",
        "\n",
        "train = pd.read_csv(f\"{DATA_PATH}customer_train.csv\") # 학습데이터\n",
        "test = pd.read_csv(f\"{DATA_PATH}customer_test.csv\") # 테스트 데이터\n",
        "train.shape , test.shape"
      ],
      "metadata": {
        "colab": {
          "base_uri": "https://localhost:8080/"
        },
        "id": "-lv48RR0kyde",
        "outputId": "1fe7debd-ee45-43f6-b4c5-cc6c2b7b1e06"
      },
      "execution_count": null,
      "outputs": [
        {
          "output_type": "execute_result",
          "data": {
            "text/plain": [
              "((4930, 21), (2113, 20))"
            ]
          },
          "metadata": {},
          "execution_count": 4
        }
      ]
    },
    {
      "cell_type": "markdown",
      "source": [
        "# 통신사 고객 이탈 여부 데이터셋 설명\n",
        "- 이탈 여부 컬럼이 타겟으로 1이 이탈!\n",
        "- 성별 컬럼\n",
        "    - 1 = 여성, 0 = 남성\n",
        "- 여부 관련 컬럼\n",
        "    - 1 = yes, 0 = no\n",
        "- 약정기간 컬럼\n",
        "    - 0 = 약정 없음\n",
        "    - 1 = 1년 약정, 2 = 2년 약정"
      ],
      "metadata": {
        "id": "DDt-KrqHlyE4"
      }
    },
    {
      "cell_type": "code",
      "source": [
        "train.head()"
      ],
      "metadata": {
        "colab": {
          "base_uri": "https://localhost:8080/",
          "height": 314
        },
        "id": "hOrZpi35kyaz",
        "outputId": "b0d25ee2-1806-49e1-8430-7f62f5239246"
      },
      "execution_count": null,
      "outputs": [
        {
          "output_type": "execute_result",
          "data": {
            "text/plain": [
              "        ID  성별  고령자여부  기혼여부  부양가족여부  가입기간  집전화이용여부  다중회선여부 인터넷이용방식  \\\n",
              "0  train_0   1      0     0       0    23        1       0       광   \n",
              "1  train_1   1      0     0       0     1        1       0     디지털   \n",
              "2  train_2   0      0     0       0    23        1       1       광   \n",
              "3  train_3   1      0     0       0    11        1       0     디지털   \n",
              "4  train_4   1      0     0       0     5        1       1       광   \n",
              "\n",
              "   인터넷보안서비스사용여부  ...  기기방화벽서비스사용여부  인터넷기술지원서비스사용여부  스트리밍TV여부  스트리밍영화여부  약정기간  \\\n",
              "0             0  ...             0               1         0         0     0   \n",
              "1             0  ...             0               0         0         0     0   \n",
              "2             0  ...             1               1         1         1     0   \n",
              "3             0  ...             1               1         0         1     1   \n",
              "4             0  ...             0               0         1         0     0   \n",
              "\n",
              "   지로여부  지불방법    한달요금    총지불요금  이탈여부  \n",
              "0     0    메일   79.10  1783.75     0  \n",
              "1     0    메일   45.40    45.40     1  \n",
              "2     0    메일  104.05  2470.10     1  \n",
              "3     1  신용카드   64.90   697.25     0  \n",
              "4     0    전자   85.20   474.80     1  \n",
              "\n",
              "[5 rows x 21 columns]"
            ],
            "text/html": [
              "\n",
              "  <div id=\"df-b0b0beb1-337e-40b7-884b-4ed5f5bf5be6\">\n",
              "    <div class=\"colab-df-container\">\n",
              "      <div>\n",
              "<style scoped>\n",
              "    .dataframe tbody tr th:only-of-type {\n",
              "        vertical-align: middle;\n",
              "    }\n",
              "\n",
              "    .dataframe tbody tr th {\n",
              "        vertical-align: top;\n",
              "    }\n",
              "\n",
              "    .dataframe thead th {\n",
              "        text-align: right;\n",
              "    }\n",
              "</style>\n",
              "<table border=\"1\" class=\"dataframe\">\n",
              "  <thead>\n",
              "    <tr style=\"text-align: right;\">\n",
              "      <th></th>\n",
              "      <th>ID</th>\n",
              "      <th>성별</th>\n",
              "      <th>고령자여부</th>\n",
              "      <th>기혼여부</th>\n",
              "      <th>부양가족여부</th>\n",
              "      <th>가입기간</th>\n",
              "      <th>집전화이용여부</th>\n",
              "      <th>다중회선여부</th>\n",
              "      <th>인터넷이용방식</th>\n",
              "      <th>인터넷보안서비스사용여부</th>\n",
              "      <th>...</th>\n",
              "      <th>기기방화벽서비스사용여부</th>\n",
              "      <th>인터넷기술지원서비스사용여부</th>\n",
              "      <th>스트리밍TV여부</th>\n",
              "      <th>스트리밍영화여부</th>\n",
              "      <th>약정기간</th>\n",
              "      <th>지로여부</th>\n",
              "      <th>지불방법</th>\n",
              "      <th>한달요금</th>\n",
              "      <th>총지불요금</th>\n",
              "      <th>이탈여부</th>\n",
              "    </tr>\n",
              "  </thead>\n",
              "  <tbody>\n",
              "    <tr>\n",
              "      <th>0</th>\n",
              "      <td>train_0</td>\n",
              "      <td>1</td>\n",
              "      <td>0</td>\n",
              "      <td>0</td>\n",
              "      <td>0</td>\n",
              "      <td>23</td>\n",
              "      <td>1</td>\n",
              "      <td>0</td>\n",
              "      <td>광</td>\n",
              "      <td>0</td>\n",
              "      <td>...</td>\n",
              "      <td>0</td>\n",
              "      <td>1</td>\n",
              "      <td>0</td>\n",
              "      <td>0</td>\n",
              "      <td>0</td>\n",
              "      <td>0</td>\n",
              "      <td>메일</td>\n",
              "      <td>79.10</td>\n",
              "      <td>1783.75</td>\n",
              "      <td>0</td>\n",
              "    </tr>\n",
              "    <tr>\n",
              "      <th>1</th>\n",
              "      <td>train_1</td>\n",
              "      <td>1</td>\n",
              "      <td>0</td>\n",
              "      <td>0</td>\n",
              "      <td>0</td>\n",
              "      <td>1</td>\n",
              "      <td>1</td>\n",
              "      <td>0</td>\n",
              "      <td>디지털</td>\n",
              "      <td>0</td>\n",
              "      <td>...</td>\n",
              "      <td>0</td>\n",
              "      <td>0</td>\n",
              "      <td>0</td>\n",
              "      <td>0</td>\n",
              "      <td>0</td>\n",
              "      <td>0</td>\n",
              "      <td>메일</td>\n",
              "      <td>45.40</td>\n",
              "      <td>45.40</td>\n",
              "      <td>1</td>\n",
              "    </tr>\n",
              "    <tr>\n",
              "      <th>2</th>\n",
              "      <td>train_2</td>\n",
              "      <td>0</td>\n",
              "      <td>0</td>\n",
              "      <td>0</td>\n",
              "      <td>0</td>\n",
              "      <td>23</td>\n",
              "      <td>1</td>\n",
              "      <td>1</td>\n",
              "      <td>광</td>\n",
              "      <td>0</td>\n",
              "      <td>...</td>\n",
              "      <td>1</td>\n",
              "      <td>1</td>\n",
              "      <td>1</td>\n",
              "      <td>1</td>\n",
              "      <td>0</td>\n",
              "      <td>0</td>\n",
              "      <td>메일</td>\n",
              "      <td>104.05</td>\n",
              "      <td>2470.10</td>\n",
              "      <td>1</td>\n",
              "    </tr>\n",
              "    <tr>\n",
              "      <th>3</th>\n",
              "      <td>train_3</td>\n",
              "      <td>1</td>\n",
              "      <td>0</td>\n",
              "      <td>0</td>\n",
              "      <td>0</td>\n",
              "      <td>11</td>\n",
              "      <td>1</td>\n",
              "      <td>0</td>\n",
              "      <td>디지털</td>\n",
              "      <td>0</td>\n",
              "      <td>...</td>\n",
              "      <td>1</td>\n",
              "      <td>1</td>\n",
              "      <td>0</td>\n",
              "      <td>1</td>\n",
              "      <td>1</td>\n",
              "      <td>1</td>\n",
              "      <td>신용카드</td>\n",
              "      <td>64.90</td>\n",
              "      <td>697.25</td>\n",
              "      <td>0</td>\n",
              "    </tr>\n",
              "    <tr>\n",
              "      <th>4</th>\n",
              "      <td>train_4</td>\n",
              "      <td>1</td>\n",
              "      <td>0</td>\n",
              "      <td>0</td>\n",
              "      <td>0</td>\n",
              "      <td>5</td>\n",
              "      <td>1</td>\n",
              "      <td>1</td>\n",
              "      <td>광</td>\n",
              "      <td>0</td>\n",
              "      <td>...</td>\n",
              "      <td>0</td>\n",
              "      <td>0</td>\n",
              "      <td>1</td>\n",
              "      <td>0</td>\n",
              "      <td>0</td>\n",
              "      <td>0</td>\n",
              "      <td>전자</td>\n",
              "      <td>85.20</td>\n",
              "      <td>474.80</td>\n",
              "      <td>1</td>\n",
              "    </tr>\n",
              "  </tbody>\n",
              "</table>\n",
              "<p>5 rows × 21 columns</p>\n",
              "</div>\n",
              "      <button class=\"colab-df-convert\" onclick=\"convertToInteractive('df-b0b0beb1-337e-40b7-884b-4ed5f5bf5be6')\"\n",
              "              title=\"Convert this dataframe to an interactive table.\"\n",
              "              style=\"display:none;\">\n",
              "        \n",
              "  <svg xmlns=\"http://www.w3.org/2000/svg\" height=\"24px\"viewBox=\"0 0 24 24\"\n",
              "       width=\"24px\">\n",
              "    <path d=\"M0 0h24v24H0V0z\" fill=\"none\"/>\n",
              "    <path d=\"M18.56 5.44l.94 2.06.94-2.06 2.06-.94-2.06-.94-.94-2.06-.94 2.06-2.06.94zm-11 1L8.5 8.5l.94-2.06 2.06-.94-2.06-.94L8.5 2.5l-.94 2.06-2.06.94zm10 10l.94 2.06.94-2.06 2.06-.94-2.06-.94-.94-2.06-.94 2.06-2.06.94z\"/><path d=\"M17.41 7.96l-1.37-1.37c-.4-.4-.92-.59-1.43-.59-.52 0-1.04.2-1.43.59L10.3 9.45l-7.72 7.72c-.78.78-.78 2.05 0 2.83L4 21.41c.39.39.9.59 1.41.59.51 0 1.02-.2 1.41-.59l7.78-7.78 2.81-2.81c.8-.78.8-2.07 0-2.86zM5.41 20L4 18.59l7.72-7.72 1.47 1.35L5.41 20z\"/>\n",
              "  </svg>\n",
              "      </button>\n",
              "      \n",
              "  <style>\n",
              "    .colab-df-container {\n",
              "      display:flex;\n",
              "      flex-wrap:wrap;\n",
              "      gap: 12px;\n",
              "    }\n",
              "\n",
              "    .colab-df-convert {\n",
              "      background-color: #E8F0FE;\n",
              "      border: none;\n",
              "      border-radius: 50%;\n",
              "      cursor: pointer;\n",
              "      display: none;\n",
              "      fill: #1967D2;\n",
              "      height: 32px;\n",
              "      padding: 0 0 0 0;\n",
              "      width: 32px;\n",
              "    }\n",
              "\n",
              "    .colab-df-convert:hover {\n",
              "      background-color: #E2EBFA;\n",
              "      box-shadow: 0px 1px 2px rgba(60, 64, 67, 0.3), 0px 1px 3px 1px rgba(60, 64, 67, 0.15);\n",
              "      fill: #174EA6;\n",
              "    }\n",
              "\n",
              "    [theme=dark] .colab-df-convert {\n",
              "      background-color: #3B4455;\n",
              "      fill: #D2E3FC;\n",
              "    }\n",
              "\n",
              "    [theme=dark] .colab-df-convert:hover {\n",
              "      background-color: #434B5C;\n",
              "      box-shadow: 0px 1px 3px 1px rgba(0, 0, 0, 0.15);\n",
              "      filter: drop-shadow(0px 1px 2px rgba(0, 0, 0, 0.3));\n",
              "      fill: #FFFFFF;\n",
              "    }\n",
              "  </style>\n",
              "\n",
              "      <script>\n",
              "        const buttonEl =\n",
              "          document.querySelector('#df-b0b0beb1-337e-40b7-884b-4ed5f5bf5be6 button.colab-df-convert');\n",
              "        buttonEl.style.display =\n",
              "          google.colab.kernel.accessAllowed ? 'block' : 'none';\n",
              "\n",
              "        async function convertToInteractive(key) {\n",
              "          const element = document.querySelector('#df-b0b0beb1-337e-40b7-884b-4ed5f5bf5be6');\n",
              "          const dataTable =\n",
              "            await google.colab.kernel.invokeFunction('convertToInteractive',\n",
              "                                                     [key], {});\n",
              "          if (!dataTable) return;\n",
              "\n",
              "          const docLinkHtml = 'Like what you see? Visit the ' +\n",
              "            '<a target=\"_blank\" href=https://colab.research.google.com/notebooks/data_table.ipynb>data table notebook</a>'\n",
              "            + ' to learn more about interactive tables.';\n",
              "          element.innerHTML = '';\n",
              "          dataTable['output_type'] = 'display_data';\n",
              "          await google.colab.output.renderOutput(dataTable, element);\n",
              "          const docLink = document.createElement('div');\n",
              "          docLink.innerHTML = docLinkHtml;\n",
              "          element.appendChild(docLink);\n",
              "        }\n",
              "      </script>\n",
              "    </div>\n",
              "  </div>\n",
              "  "
            ]
          },
          "metadata": {},
          "execution_count": 5
        }
      ]
    },
    {
      "cell_type": "markdown",
      "source": [
        "# 데이터 분석(Data analysis)"
      ],
      "metadata": {
        "id": "kHuPD8tcavdP"
      }
    },
    {
      "cell_type": "code",
      "source": [
        "train.info()"
      ],
      "metadata": {
        "colab": {
          "base_uri": "https://localhost:8080/"
        },
        "id": "ld0n4ysY2br3",
        "outputId": "dfb174c4-a4d2-4c71-eafe-4513f86f9df3"
      },
      "execution_count": null,
      "outputs": [
        {
          "output_type": "stream",
          "name": "stdout",
          "text": [
            "<class 'pandas.core.frame.DataFrame'>\n",
            "RangeIndex: 4930 entries, 0 to 4929\n",
            "Data columns (total 21 columns):\n",
            " #   Column          Non-Null Count  Dtype  \n",
            "---  ------          --------------  -----  \n",
            " 0   ID              4930 non-null   object \n",
            " 1   성별              4930 non-null   int64  \n",
            " 2   고령자여부           4930 non-null   int64  \n",
            " 3   기혼여부            4930 non-null   int64  \n",
            " 4   부양가족여부          4930 non-null   int64  \n",
            " 5   가입기간            4930 non-null   int64  \n",
            " 6   집전화이용여부         4930 non-null   int64  \n",
            " 7   다중회선여부          4930 non-null   int64  \n",
            " 8   인터넷이용방식         3859 non-null   object \n",
            " 9   인터넷보안서비스사용여부    4930 non-null   int64  \n",
            " 10  인터넷백업서비스사용여부    4930 non-null   int64  \n",
            " 11  기기방화벽서비스사용여부    4930 non-null   int64  \n",
            " 12  인터넷기술지원서비스사용여부  4930 non-null   int64  \n",
            " 13  스트리밍TV여부        4930 non-null   int64  \n",
            " 14  스트리밍영화여부        4930 non-null   int64  \n",
            " 15  약정기간            4930 non-null   int64  \n",
            " 16  지로여부            4930 non-null   int64  \n",
            " 17  지불방법            4930 non-null   object \n",
            " 18  한달요금            4930 non-null   float64\n",
            " 19  총지불요금           4930 non-null   float64\n",
            " 20  이탈여부            4930 non-null   int64  \n",
            "dtypes: float64(2), int64(16), object(3)\n",
            "memory usage: 809.0+ KB\n"
          ]
        }
      ]
    },
    {
      "cell_type": "markdown",
      "source": [
        "- 결측치 처리하기"
      ],
      "metadata": {
        "id": "1Ker1ZQUFHMA"
      }
    },
    {
      "cell_type": "code",
      "source": [
        "train.isnull().sum()"
      ],
      "metadata": {
        "colab": {
          "base_uri": "https://localhost:8080/"
        },
        "id": "dZV1ftovB_3p",
        "outputId": "8f2c2a95-1263-42b2-fe64-b29899a98a99"
      },
      "execution_count": null,
      "outputs": [
        {
          "output_type": "execute_result",
          "data": {
            "text/plain": [
              "ID                   0\n",
              "성별                   0\n",
              "고령자여부                0\n",
              "기혼여부                 0\n",
              "부양가족여부               0\n",
              "가입기간                 0\n",
              "집전화이용여부              0\n",
              "다중회선여부               0\n",
              "인터넷이용방식           1071\n",
              "인터넷보안서비스사용여부         0\n",
              "인터넷백업서비스사용여부         0\n",
              "기기방화벽서비스사용여부         0\n",
              "인터넷기술지원서비스사용여부       0\n",
              "스트리밍TV여부             0\n",
              "스트리밍영화여부             0\n",
              "약정기간                 0\n",
              "지로여부                 0\n",
              "지불방법                 0\n",
              "한달요금                 0\n",
              "총지불요금                0\n",
              "이탈여부                 0\n",
              "dtype: int64"
            ]
          },
          "metadata": {},
          "execution_count": 7
        }
      ]
    },
    {
      "cell_type": "code",
      "source": [
        "test.isnull().sum()"
      ],
      "metadata": {
        "colab": {
          "base_uri": "https://localhost:8080/"
        },
        "id": "6P_KEupyCCf5",
        "outputId": "242d7f86-6a6f-4238-9080-6e0c4da83d25"
      },
      "execution_count": null,
      "outputs": [
        {
          "output_type": "execute_result",
          "data": {
            "text/plain": [
              "ID                  0\n",
              "성별                  0\n",
              "고령자여부               0\n",
              "기혼여부                0\n",
              "부양가족여부              0\n",
              "가입기간                0\n",
              "집전화이용여부             0\n",
              "다중회선여부              0\n",
              "인터넷이용방식           455\n",
              "인터넷보안서비스사용여부        0\n",
              "인터넷백업서비스사용여부        0\n",
              "기기방화벽서비스사용여부        0\n",
              "인터넷기술지원서비스사용여부      0\n",
              "스트리밍TV여부            0\n",
              "스트리밍영화여부            0\n",
              "약정기간                0\n",
              "지로여부                0\n",
              "지불방법                0\n",
              "한달요금                0\n",
              "총지불요금               0\n",
              "dtype: int64"
            ]
          },
          "metadata": {},
          "execution_count": 8
        }
      ]
    },
    {
      "cell_type": "code",
      "source": [
        "internet_type = train[\"인터넷이용방식\"].mode()[0]"
      ],
      "metadata": {
        "id": "-XB6yA14M0VP"
      },
      "execution_count": null,
      "outputs": []
    },
    {
      "cell_type": "code",
      "source": [
        "train[\"인터넷이용방식\"] = train[\"인터넷이용방식\"].fillna(internet_type)\n",
        "test[\"인터넷이용방식\"] = test[\"인터넷이용방식\"].fillna(internet_type)"
      ],
      "metadata": {
        "id": "MN9gwW2QB9SX"
      },
      "execution_count": null,
      "outputs": []
    },
    {
      "cell_type": "code",
      "source": [
        "train.isnull().sum().sum() , test.isnull().sum().sum()"
      ],
      "metadata": {
        "colab": {
          "base_uri": "https://localhost:8080/"
        },
        "id": "KMBmJt8UCRFQ",
        "outputId": "07489df3-ae5e-4c34-c10c-eaf3db4201bf"
      },
      "execution_count": null,
      "outputs": [
        {
          "output_type": "execute_result",
          "data": {
            "text/plain": [
              "(0, 0)"
            ]
          },
          "metadata": {},
          "execution_count": 11
        }
      ]
    },
    {
      "cell_type": "code",
      "source": [
        "train.describe()"
      ],
      "metadata": {
        "colab": {
          "base_uri": "https://localhost:8080/",
          "height": 399
        },
        "id": "UUYsa6JFu0vZ",
        "outputId": "c57438b4-c8b3-4a01-d7af-6a6a08286d69"
      },
      "execution_count": null,
      "outputs": [
        {
          "output_type": "execute_result",
          "data": {
            "text/plain": [
              "                성별        고령자여부         기혼여부       부양가족여부         가입기간  \\\n",
              "count  4930.000000  4930.000000  4930.000000  4930.000000  4930.000000   \n",
              "mean      0.497972     0.160446     0.485396     0.298783    32.807505   \n",
              "std       0.500047     0.367057     0.499837     0.457771    24.684877   \n",
              "min       0.000000     0.000000     0.000000     0.000000     0.000000   \n",
              "25%       0.000000     0.000000     0.000000     0.000000     9.000000   \n",
              "50%       0.000000     0.000000     0.000000     0.000000    29.500000   \n",
              "75%       1.000000     0.000000     1.000000     1.000000    56.000000   \n",
              "max       1.000000     1.000000     1.000000     1.000000    72.000000   \n",
              "\n",
              "           집전화이용여부       다중회선여부  인터넷보안서비스사용여부  인터넷백업서비스사용여부  기기방화벽서비스사용여부  \\\n",
              "count  4930.000000  4930.000000   4930.000000   4930.000000   4930.000000   \n",
              "mean      0.904868     0.421907      0.288844      0.344219      0.347465   \n",
              "std       0.293427     0.493914      0.453271      0.475161      0.476213   \n",
              "min       0.000000     0.000000      0.000000      0.000000      0.000000   \n",
              "25%       1.000000     0.000000      0.000000      0.000000      0.000000   \n",
              "50%       1.000000     0.000000      0.000000      0.000000      0.000000   \n",
              "75%       1.000000     1.000000      1.000000      1.000000      1.000000   \n",
              "max       1.000000     1.000000      1.000000      1.000000      1.000000   \n",
              "\n",
              "       인터넷기술지원서비스사용여부     스트리밍TV여부     스트리밍영화여부         약정기간         지로여부  \\\n",
              "count     4930.000000  4930.000000  4930.000000  4930.000000  4930.000000   \n",
              "mean         0.295132     0.386207     0.388641     0.701826     0.412373   \n",
              "std          0.456148     0.486928     0.487491     0.838039     0.492312   \n",
              "min          0.000000     0.000000     0.000000     0.000000     0.000000   \n",
              "25%          0.000000     0.000000     0.000000     0.000000     0.000000   \n",
              "50%          0.000000     0.000000     0.000000     0.000000     0.000000   \n",
              "75%          1.000000     1.000000     1.000000     1.000000     1.000000   \n",
              "max          1.000000     1.000000     1.000000     2.000000     1.000000   \n",
              "\n",
              "              한달요금        총지불요금         이탈여부  \n",
              "count  4930.000000  4930.000000  4930.000000  \n",
              "mean     64.894787  2309.829148     0.265314  \n",
              "std      30.074560  2282.572526     0.441545  \n",
              "min      18.250000     0.000000     0.000000  \n",
              "25%      35.675000   411.337500     0.000000  \n",
              "50%      70.450000  1412.150000     0.000000  \n",
              "75%      89.850000  3845.412500     1.000000  \n",
              "max     118.650000  8684.800000     1.000000  "
            ],
            "text/html": [
              "\n",
              "  <div id=\"df-877a7538-1996-4b80-8967-2ccafb28e026\">\n",
              "    <div class=\"colab-df-container\">\n",
              "      <div>\n",
              "<style scoped>\n",
              "    .dataframe tbody tr th:only-of-type {\n",
              "        vertical-align: middle;\n",
              "    }\n",
              "\n",
              "    .dataframe tbody tr th {\n",
              "        vertical-align: top;\n",
              "    }\n",
              "\n",
              "    .dataframe thead th {\n",
              "        text-align: right;\n",
              "    }\n",
              "</style>\n",
              "<table border=\"1\" class=\"dataframe\">\n",
              "  <thead>\n",
              "    <tr style=\"text-align: right;\">\n",
              "      <th></th>\n",
              "      <th>성별</th>\n",
              "      <th>고령자여부</th>\n",
              "      <th>기혼여부</th>\n",
              "      <th>부양가족여부</th>\n",
              "      <th>가입기간</th>\n",
              "      <th>집전화이용여부</th>\n",
              "      <th>다중회선여부</th>\n",
              "      <th>인터넷보안서비스사용여부</th>\n",
              "      <th>인터넷백업서비스사용여부</th>\n",
              "      <th>기기방화벽서비스사용여부</th>\n",
              "      <th>인터넷기술지원서비스사용여부</th>\n",
              "      <th>스트리밍TV여부</th>\n",
              "      <th>스트리밍영화여부</th>\n",
              "      <th>약정기간</th>\n",
              "      <th>지로여부</th>\n",
              "      <th>한달요금</th>\n",
              "      <th>총지불요금</th>\n",
              "      <th>이탈여부</th>\n",
              "    </tr>\n",
              "  </thead>\n",
              "  <tbody>\n",
              "    <tr>\n",
              "      <th>count</th>\n",
              "      <td>4930.000000</td>\n",
              "      <td>4930.000000</td>\n",
              "      <td>4930.000000</td>\n",
              "      <td>4930.000000</td>\n",
              "      <td>4930.000000</td>\n",
              "      <td>4930.000000</td>\n",
              "      <td>4930.000000</td>\n",
              "      <td>4930.000000</td>\n",
              "      <td>4930.000000</td>\n",
              "      <td>4930.000000</td>\n",
              "      <td>4930.000000</td>\n",
              "      <td>4930.000000</td>\n",
              "      <td>4930.000000</td>\n",
              "      <td>4930.000000</td>\n",
              "      <td>4930.000000</td>\n",
              "      <td>4930.000000</td>\n",
              "      <td>4930.000000</td>\n",
              "      <td>4930.000000</td>\n",
              "    </tr>\n",
              "    <tr>\n",
              "      <th>mean</th>\n",
              "      <td>0.497972</td>\n",
              "      <td>0.160446</td>\n",
              "      <td>0.485396</td>\n",
              "      <td>0.298783</td>\n",
              "      <td>32.807505</td>\n",
              "      <td>0.904868</td>\n",
              "      <td>0.421907</td>\n",
              "      <td>0.288844</td>\n",
              "      <td>0.344219</td>\n",
              "      <td>0.347465</td>\n",
              "      <td>0.295132</td>\n",
              "      <td>0.386207</td>\n",
              "      <td>0.388641</td>\n",
              "      <td>0.701826</td>\n",
              "      <td>0.412373</td>\n",
              "      <td>64.894787</td>\n",
              "      <td>2309.829148</td>\n",
              "      <td>0.265314</td>\n",
              "    </tr>\n",
              "    <tr>\n",
              "      <th>std</th>\n",
              "      <td>0.500047</td>\n",
              "      <td>0.367057</td>\n",
              "      <td>0.499837</td>\n",
              "      <td>0.457771</td>\n",
              "      <td>24.684877</td>\n",
              "      <td>0.293427</td>\n",
              "      <td>0.493914</td>\n",
              "      <td>0.453271</td>\n",
              "      <td>0.475161</td>\n",
              "      <td>0.476213</td>\n",
              "      <td>0.456148</td>\n",
              "      <td>0.486928</td>\n",
              "      <td>0.487491</td>\n",
              "      <td>0.838039</td>\n",
              "      <td>0.492312</td>\n",
              "      <td>30.074560</td>\n",
              "      <td>2282.572526</td>\n",
              "      <td>0.441545</td>\n",
              "    </tr>\n",
              "    <tr>\n",
              "      <th>min</th>\n",
              "      <td>0.000000</td>\n",
              "      <td>0.000000</td>\n",
              "      <td>0.000000</td>\n",
              "      <td>0.000000</td>\n",
              "      <td>0.000000</td>\n",
              "      <td>0.000000</td>\n",
              "      <td>0.000000</td>\n",
              "      <td>0.000000</td>\n",
              "      <td>0.000000</td>\n",
              "      <td>0.000000</td>\n",
              "      <td>0.000000</td>\n",
              "      <td>0.000000</td>\n",
              "      <td>0.000000</td>\n",
              "      <td>0.000000</td>\n",
              "      <td>0.000000</td>\n",
              "      <td>18.250000</td>\n",
              "      <td>0.000000</td>\n",
              "      <td>0.000000</td>\n",
              "    </tr>\n",
              "    <tr>\n",
              "      <th>25%</th>\n",
              "      <td>0.000000</td>\n",
              "      <td>0.000000</td>\n",
              "      <td>0.000000</td>\n",
              "      <td>0.000000</td>\n",
              "      <td>9.000000</td>\n",
              "      <td>1.000000</td>\n",
              "      <td>0.000000</td>\n",
              "      <td>0.000000</td>\n",
              "      <td>0.000000</td>\n",
              "      <td>0.000000</td>\n",
              "      <td>0.000000</td>\n",
              "      <td>0.000000</td>\n",
              "      <td>0.000000</td>\n",
              "      <td>0.000000</td>\n",
              "      <td>0.000000</td>\n",
              "      <td>35.675000</td>\n",
              "      <td>411.337500</td>\n",
              "      <td>0.000000</td>\n",
              "    </tr>\n",
              "    <tr>\n",
              "      <th>50%</th>\n",
              "      <td>0.000000</td>\n",
              "      <td>0.000000</td>\n",
              "      <td>0.000000</td>\n",
              "      <td>0.000000</td>\n",
              "      <td>29.500000</td>\n",
              "      <td>1.000000</td>\n",
              "      <td>0.000000</td>\n",
              "      <td>0.000000</td>\n",
              "      <td>0.000000</td>\n",
              "      <td>0.000000</td>\n",
              "      <td>0.000000</td>\n",
              "      <td>0.000000</td>\n",
              "      <td>0.000000</td>\n",
              "      <td>0.000000</td>\n",
              "      <td>0.000000</td>\n",
              "      <td>70.450000</td>\n",
              "      <td>1412.150000</td>\n",
              "      <td>0.000000</td>\n",
              "    </tr>\n",
              "    <tr>\n",
              "      <th>75%</th>\n",
              "      <td>1.000000</td>\n",
              "      <td>0.000000</td>\n",
              "      <td>1.000000</td>\n",
              "      <td>1.000000</td>\n",
              "      <td>56.000000</td>\n",
              "      <td>1.000000</td>\n",
              "      <td>1.000000</td>\n",
              "      <td>1.000000</td>\n",
              "      <td>1.000000</td>\n",
              "      <td>1.000000</td>\n",
              "      <td>1.000000</td>\n",
              "      <td>1.000000</td>\n",
              "      <td>1.000000</td>\n",
              "      <td>1.000000</td>\n",
              "      <td>1.000000</td>\n",
              "      <td>89.850000</td>\n",
              "      <td>3845.412500</td>\n",
              "      <td>1.000000</td>\n",
              "    </tr>\n",
              "    <tr>\n",
              "      <th>max</th>\n",
              "      <td>1.000000</td>\n",
              "      <td>1.000000</td>\n",
              "      <td>1.000000</td>\n",
              "      <td>1.000000</td>\n",
              "      <td>72.000000</td>\n",
              "      <td>1.000000</td>\n",
              "      <td>1.000000</td>\n",
              "      <td>1.000000</td>\n",
              "      <td>1.000000</td>\n",
              "      <td>1.000000</td>\n",
              "      <td>1.000000</td>\n",
              "      <td>1.000000</td>\n",
              "      <td>1.000000</td>\n",
              "      <td>2.000000</td>\n",
              "      <td>1.000000</td>\n",
              "      <td>118.650000</td>\n",
              "      <td>8684.800000</td>\n",
              "      <td>1.000000</td>\n",
              "    </tr>\n",
              "  </tbody>\n",
              "</table>\n",
              "</div>\n",
              "      <button class=\"colab-df-convert\" onclick=\"convertToInteractive('df-877a7538-1996-4b80-8967-2ccafb28e026')\"\n",
              "              title=\"Convert this dataframe to an interactive table.\"\n",
              "              style=\"display:none;\">\n",
              "        \n",
              "  <svg xmlns=\"http://www.w3.org/2000/svg\" height=\"24px\"viewBox=\"0 0 24 24\"\n",
              "       width=\"24px\">\n",
              "    <path d=\"M0 0h24v24H0V0z\" fill=\"none\"/>\n",
              "    <path d=\"M18.56 5.44l.94 2.06.94-2.06 2.06-.94-2.06-.94-.94-2.06-.94 2.06-2.06.94zm-11 1L8.5 8.5l.94-2.06 2.06-.94-2.06-.94L8.5 2.5l-.94 2.06-2.06.94zm10 10l.94 2.06.94-2.06 2.06-.94-2.06-.94-.94-2.06-.94 2.06-2.06.94z\"/><path d=\"M17.41 7.96l-1.37-1.37c-.4-.4-.92-.59-1.43-.59-.52 0-1.04.2-1.43.59L10.3 9.45l-7.72 7.72c-.78.78-.78 2.05 0 2.83L4 21.41c.39.39.9.59 1.41.59.51 0 1.02-.2 1.41-.59l7.78-7.78 2.81-2.81c.8-.78.8-2.07 0-2.86zM5.41 20L4 18.59l7.72-7.72 1.47 1.35L5.41 20z\"/>\n",
              "  </svg>\n",
              "      </button>\n",
              "      \n",
              "  <style>\n",
              "    .colab-df-container {\n",
              "      display:flex;\n",
              "      flex-wrap:wrap;\n",
              "      gap: 12px;\n",
              "    }\n",
              "\n",
              "    .colab-df-convert {\n",
              "      background-color: #E8F0FE;\n",
              "      border: none;\n",
              "      border-radius: 50%;\n",
              "      cursor: pointer;\n",
              "      display: none;\n",
              "      fill: #1967D2;\n",
              "      height: 32px;\n",
              "      padding: 0 0 0 0;\n",
              "      width: 32px;\n",
              "    }\n",
              "\n",
              "    .colab-df-convert:hover {\n",
              "      background-color: #E2EBFA;\n",
              "      box-shadow: 0px 1px 2px rgba(60, 64, 67, 0.3), 0px 1px 3px 1px rgba(60, 64, 67, 0.15);\n",
              "      fill: #174EA6;\n",
              "    }\n",
              "\n",
              "    [theme=dark] .colab-df-convert {\n",
              "      background-color: #3B4455;\n",
              "      fill: #D2E3FC;\n",
              "    }\n",
              "\n",
              "    [theme=dark] .colab-df-convert:hover {\n",
              "      background-color: #434B5C;\n",
              "      box-shadow: 0px 1px 3px 1px rgba(0, 0, 0, 0.15);\n",
              "      filter: drop-shadow(0px 1px 2px rgba(0, 0, 0, 0.3));\n",
              "      fill: #FFFFFF;\n",
              "    }\n",
              "  </style>\n",
              "\n",
              "      <script>\n",
              "        const buttonEl =\n",
              "          document.querySelector('#df-877a7538-1996-4b80-8967-2ccafb28e026 button.colab-df-convert');\n",
              "        buttonEl.style.display =\n",
              "          google.colab.kernel.accessAllowed ? 'block' : 'none';\n",
              "\n",
              "        async function convertToInteractive(key) {\n",
              "          const element = document.querySelector('#df-877a7538-1996-4b80-8967-2ccafb28e026');\n",
              "          const dataTable =\n",
              "            await google.colab.kernel.invokeFunction('convertToInteractive',\n",
              "                                                     [key], {});\n",
              "          if (!dataTable) return;\n",
              "\n",
              "          const docLinkHtml = 'Like what you see? Visit the ' +\n",
              "            '<a target=\"_blank\" href=https://colab.research.google.com/notebooks/data_table.ipynb>data table notebook</a>'\n",
              "            + ' to learn more about interactive tables.';\n",
              "          element.innerHTML = '';\n",
              "          dataTable['output_type'] = 'display_data';\n",
              "          await google.colab.output.renderOutput(dataTable, element);\n",
              "          const docLink = document.createElement('div');\n",
              "          docLink.innerHTML = docLinkHtml;\n",
              "          element.appendChild(docLink);\n",
              "        }\n",
              "      </script>\n",
              "    </div>\n",
              "  </div>\n",
              "  "
            ]
          },
          "metadata": {},
          "execution_count": 12
        }
      ]
    },
    {
      "cell_type": "code",
      "source": [
        "# 이상치 처리\n",
        "train['총지불요금'] = train['총지불요금'].where((train['지불방법'] != '메일') | (train['총지불요금'] <= 3112), 1412.15)"
      ],
      "metadata": {
        "id": "0ruAwQpgw4l0"
      },
      "execution_count": null,
      "outputs": []
    },
    {
      "cell_type": "code",
      "source": [
        "# 이상치 처리\n",
        "train['총지불요금'] = train['총지불요금'].where((train['지불방법'] != '전자') | (train['총지불요금'] <= 7862.25), 8574.7)"
      ],
      "metadata": {
        "id": "oF3bMx6uul6i"
      },
      "execution_count": null,
      "outputs": []
    },
    {
      "cell_type": "code",
      "source": [
        "# 새로운 특성_1\n",
        "train['가입기간_약정기간_비율'] = train['가입기간'] / (train['약정기간'] + 1)\n",
        "test['가입기간_약정기간_비율'] = test['가입기간'] / (test['약정기간'] + 1)"
      ],
      "metadata": {
        "id": "1PTPyWu_lAWD"
      },
      "execution_count": null,
      "outputs": []
    },
    {
      "cell_type": "code",
      "source": [
        "# 새로운 특성_2\n",
        "train['스TV_스영화'] = train['스트리밍TV여부'] + train['스트리밍영화여부']\n",
        "test['스TV_스영화'] = test['스트리밍TV여부'] + test['스트리밍영화여부']"
      ],
      "metadata": {
        "id": "Kp1QvN--lANM"
      },
      "execution_count": null,
      "outputs": []
    },
    {
      "cell_type": "code",
      "source": [
        "# 새로운 특성_3\n",
        "train['부가서비스_5종'] = train['인터넷보안서비스사용여부'] + train['인터넷백업서비스사용여부'] + train['기기방화벽서비스사용여부'] + train['인터넷기술지원서비스사용여부'] + train['다중회선여부']\n",
        "test['부가서비스_5종'] = test['인터넷보안서비스사용여부'] + test['인터넷백업서비스사용여부'] + test['기기방화벽서비스사용여부'] + test['인터넷기술지원서비스사용여부'] + test['다중회선여부']"
      ],
      "metadata": {
        "id": "hfkk7RiplAD2"
      },
      "execution_count": null,
      "outputs": []
    },
    {
      "cell_type": "code",
      "source": [
        "# 새로운 특성_4\n",
        "train['총지불요금_편차'] = train.groupby('가입기간')['총지불요금'].transform(lambda x: np.std(x))\n",
        "test = pd.merge(test, train.groupby('가입기간')['총지불요금'].std().reset_index(name='총지불요금_편차'), on='가입기간', how='left').fillna(0)"
      ],
      "metadata": {
        "id": "8hDB_jWmk_2S"
      },
      "execution_count": null,
      "outputs": []
    },
    {
      "cell_type": "code",
      "source": [
        "# 새로운 특성_5\n",
        "train['전자_가중치'] = (train['지불방법'] == '전자').astype(int)\n",
        "test['전자_가중치'] = (test['지불방법'] == '전자').astype(int)"
      ],
      "metadata": {
        "id": "JT9OzUKmk_Hp"
      },
      "execution_count": null,
      "outputs": []
    },
    {
      "cell_type": "code",
      "source": [
        "train.columns"
      ],
      "metadata": {
        "colab": {
          "base_uri": "https://localhost:8080/"
        },
        "id": "Qyhtg66dmNDs",
        "outputId": "f0353c84-7b7e-4f49-9eb5-7b2716ab8c30"
      },
      "execution_count": null,
      "outputs": [
        {
          "output_type": "execute_result",
          "data": {
            "text/plain": [
              "Index(['ID', '성별', '고령자여부', '기혼여부', '부양가족여부', '가입기간', '집전화이용여부', '다중회선여부',\n",
              "       '인터넷이용방식', '인터넷보안서비스사용여부', '인터넷백업서비스사용여부', '기기방화벽서비스사용여부',\n",
              "       '인터넷기술지원서비스사용여부', '스트리밍TV여부', '스트리밍영화여부', '약정기간', '지로여부', '지불방법',\n",
              "       '한달요금', '총지불요금', '이탈여부', '가입기간_약정기간_비율', '스TV_스영화', '부가서비스_5종',\n",
              "       '총지불요금_편차', '전자_가중치'],\n",
              "      dtype='object')"
            ]
          },
          "metadata": {},
          "execution_count": 20
        }
      ]
    },
    {
      "cell_type": "code",
      "source": [
        "# 특성으로 사용할 변수 추가하기\n",
        "cols = ['성별', '고령자여부', '기혼여부', '부양가족여부', '가입기간', '집전화이용여부', '다중회선여부',\n",
        "       '인터넷이용방식', '인터넷보안서비스사용여부', '인터넷백업서비스사용여부', '기기방화벽서비스사용여부',\n",
        "       '인터넷기술지원서비스사용여부', '스트리밍TV여부', '스트리밍영화여부', '약정기간', '지로여부', '지불방법',\n",
        "       '한달요금', '총지불요금', '가입기간_약정기간_비율', '스TV_스영화', '부가서비스_5종',\n",
        "       '총지불요금_편차', '전자_가중치']\n",
        "train_ft = train[cols].copy()\n",
        "test_ft = test[cols].copy() # 테스트 데이터\n",
        "train_ft.shape, test_ft.shape"
      ],
      "metadata": {
        "colab": {
          "base_uri": "https://localhost:8080/"
        },
        "id": "56voCaxNjRMI",
        "outputId": "6a429f44-ba34-4bed-ecff-b91ed02728a1"
      },
      "execution_count": null,
      "outputs": [
        {
          "output_type": "execute_result",
          "data": {
            "text/plain": [
              "((4930, 24), (2113, 24))"
            ]
          },
          "metadata": {},
          "execution_count": 21
        }
      ]
    },
    {
      "cell_type": "code",
      "source": [
        "family_cols = ['고령자여부', '기혼여부','부양가족여부']"
      ],
      "metadata": {
        "id": "3OUvASEb_AMY"
      },
      "execution_count": null,
      "outputs": []
    },
    {
      "cell_type": "code",
      "source": [
        "# 학습데이터\n",
        "from itertools import combinations\n",
        "for col in combinations(family_cols, 2):\n",
        "   train_ft[f\"{col[0]}_{col[1]}\"] = train_ft[col[0]].astype(str) + \"_\" + train_ft[col[1]].astype(str)"
      ],
      "metadata": {
        "id": "8JGsEVK7-8-o"
      },
      "execution_count": null,
      "outputs": []
    },
    {
      "cell_type": "code",
      "source": [
        "# 테스트데이터\n",
        "from itertools import combinations\n",
        "for col in combinations(family_cols, 2):\n",
        "   test_ft[f\"{col[0]}_{col[1]}\"] = test_ft[col[0]].astype(str) + \"_\" + test_ft[col[1]].astype(str)"
      ],
      "metadata": {
        "id": "-1GXzQKA-8tR"
      },
      "execution_count": null,
      "outputs": []
    },
    {
      "cell_type": "code",
      "source": [
        "service_cols = ['집전화이용여부','다중회선여부','인터넷이용방식','인터넷보안서비스사용여부','인터넷백업서비스사용여부','기기방화벽서비스사용여부']"
      ],
      "metadata": {
        "id": "WCJly6zPJsAo"
      },
      "execution_count": null,
      "outputs": []
    },
    {
      "cell_type": "code",
      "source": [
        "# 학습데이터\n",
        "from itertools import combinations\n",
        "for col in combinations(service_cols, 2):\n",
        "   train_ft[f\"{col[0]}_{col[1]}\"] = train_ft[col[0]].astype(str) + \"_\" + train_ft[col[1]].astype(str)"
      ],
      "metadata": {
        "id": "fSxSbrr6Jr7Z"
      },
      "execution_count": null,
      "outputs": []
    },
    {
      "cell_type": "code",
      "source": [
        "# 테스트데이터\n",
        "from itertools import combinations\n",
        "for col in combinations(service_cols, 2):\n",
        "   test_ft[f\"{col[0]}_{col[1]}\"] = test_ft[col[0]].astype(str) + \"_\" + test_ft[col[1]].astype(str)"
      ],
      "metadata": {
        "id": "lJMhujWlJrjv"
      },
      "execution_count": null,
      "outputs": []
    },
    {
      "cell_type": "code",
      "source": [
        "!pip install category_encoders"
      ],
      "metadata": {
        "colab": {
          "base_uri": "https://localhost:8080/"
        },
        "id": "VAr8RIb3UZp8",
        "outputId": "878a8a80-a636-45c1-cdc4-5ca878e3d1de"
      },
      "execution_count": null,
      "outputs": [
        {
          "output_type": "stream",
          "name": "stdout",
          "text": [
            "Looking in indexes: https://pypi.org/simple, https://us-python.pkg.dev/colab-wheels/public/simple/\n",
            "Requirement already satisfied: category_encoders in /usr/local/lib/python3.10/dist-packages (2.6.1)\n",
            "Requirement already satisfied: numpy>=1.14.0 in /usr/local/lib/python3.10/dist-packages (from category_encoders) (1.22.4)\n",
            "Requirement already satisfied: scikit-learn>=0.20.0 in /usr/local/lib/python3.10/dist-packages (from category_encoders) (1.2.2)\n",
            "Requirement already satisfied: scipy>=1.0.0 in /usr/local/lib/python3.10/dist-packages (from category_encoders) (1.10.1)\n",
            "Requirement already satisfied: statsmodels>=0.9.0 in /usr/local/lib/python3.10/dist-packages (from category_encoders) (0.13.5)\n",
            "Requirement already satisfied: pandas>=1.0.5 in /usr/local/lib/python3.10/dist-packages (from category_encoders) (1.5.3)\n",
            "Requirement already satisfied: patsy>=0.5.1 in /usr/local/lib/python3.10/dist-packages (from category_encoders) (0.5.3)\n",
            "Requirement already satisfied: python-dateutil>=2.8.1 in /usr/local/lib/python3.10/dist-packages (from pandas>=1.0.5->category_encoders) (2.8.2)\n",
            "Requirement already satisfied: pytz>=2020.1 in /usr/local/lib/python3.10/dist-packages (from pandas>=1.0.5->category_encoders) (2022.7.1)\n",
            "Requirement already satisfied: six in /usr/local/lib/python3.10/dist-packages (from patsy>=0.5.1->category_encoders) (1.16.0)\n",
            "Requirement already satisfied: joblib>=1.1.1 in /usr/local/lib/python3.10/dist-packages (from scikit-learn>=0.20.0->category_encoders) (1.2.0)\n",
            "Requirement already satisfied: threadpoolctl>=2.0.0 in /usr/local/lib/python3.10/dist-packages (from scikit-learn>=0.20.0->category_encoders) (3.1.0)\n",
            "Requirement already satisfied: packaging>=21.3 in /usr/local/lib/python3.10/dist-packages (from statsmodels>=0.9.0->category_encoders) (23.1)\n"
          ]
        }
      ]
    },
    {
      "cell_type": "code",
      "source": [
        "import category_encoders as ce"
      ],
      "metadata": {
        "id": "sew2Z0KAYjjU"
      },
      "execution_count": null,
      "outputs": []
    },
    {
      "cell_type": "code",
      "source": [
        "train_ft.nunique()"
      ],
      "metadata": {
        "colab": {
          "base_uri": "https://localhost:8080/"
        },
        "id": "rQTtDSIeqy_N",
        "outputId": "00b1211b-abff-4d0c-fb4e-d32057b46b4c"
      },
      "execution_count": null,
      "outputs": [
        {
          "output_type": "execute_result",
          "data": {
            "text/plain": [
              "성별                              2\n",
              "고령자여부                           2\n",
              "기혼여부                            2\n",
              "부양가족여부                          2\n",
              "가입기간                           73\n",
              "집전화이용여부                         2\n",
              "다중회선여부                          2\n",
              "인터넷이용방식                         2\n",
              "인터넷보안서비스사용여부                    2\n",
              "인터넷백업서비스사용여부                    2\n",
              "기기방화벽서비스사용여부                    2\n",
              "인터넷기술지원서비스사용여부                  2\n",
              "스트리밍TV여부                        2\n",
              "스트리밍영화여부                        2\n",
              "약정기간                            3\n",
              "지로여부                            2\n",
              "지불방법                            4\n",
              "한달요금                         1432\n",
              "총지불요금                        4530\n",
              "가입기간_약정기간_비율                  157\n",
              "스TV_스영화                         3\n",
              "부가서비스_5종                        6\n",
              "총지불요금_편차                       73\n",
              "전자_가중치                          2\n",
              "고령자여부_기혼여부                      4\n",
              "고령자여부_부양가족여부                    4\n",
              "기혼여부_부양가족여부                     4\n",
              "집전화이용여부_다중회선여부                  3\n",
              "집전화이용여부_인터넷이용방식                 3\n",
              "집전화이용여부_인터넷보안서비스사용여부            4\n",
              "집전화이용여부_인터넷백업서비스사용여부            4\n",
              "집전화이용여부_기기방화벽서비스사용여부            4\n",
              "다중회선여부_인터넷이용방식                  4\n",
              "다중회선여부_인터넷보안서비스사용여부             4\n",
              "다중회선여부_인터넷백업서비스사용여부             4\n",
              "다중회선여부_기기방화벽서비스사용여부             4\n",
              "인터넷이용방식_인터넷보안서비스사용여부            4\n",
              "인터넷이용방식_인터넷백업서비스사용여부            4\n",
              "인터넷이용방식_기기방화벽서비스사용여부            4\n",
              "인터넷보안서비스사용여부_인터넷백업서비스사용여부       4\n",
              "인터넷보안서비스사용여부_기기방화벽서비스사용여부       4\n",
              "인터넷백업서비스사용여부_기기방화벽서비스사용여부       4\n",
              "dtype: int64"
            ]
          },
          "metadata": {},
          "execution_count": 30
        }
      ]
    },
    {
      "cell_type": "code",
      "source": [
        "cols_num = [ '가입기간', '한달요금', '총지불요금', '가입기간_약정기간_비율', '총지불요금_편차' ]\n",
        "cols_cat = [ '성별', '고령자여부', '기혼여부', '부양가족여부', '집전화이용여부', '다중회선여부', '인터넷이용방식',\n",
        "       '인터넷보안서비스사용여부', '인터넷백업서비스사용여부', '기기방화벽서비스사용여부', '인터넷기술지원서비스사용여부',\n",
        "       '스트리밍TV여부', '스트리밍영화여부', '약정기간', '지로여부', '지불방법', '스TV_스영화', '부가서비스_5종',\n",
        "       '전자_가중치','고령자여부_기혼여부','고령자여부_부양가족여부','기혼여부_부양가족여부','집전화이용여부_다중회선여부','집전화이용여부_인터넷이용방식','집전화이용여부_인터넷보안서비스사용여부','집전화이용여부_인터넷백업서비스사용여부','집전화이용여부_기기방화벽서비스사용여부','다중회선여부_인터넷이용방식','다중회선여부_인터넷보안서비스사용여부','다중회선여부_기기방화벽서비스사용여부','인터넷이용방식_인터넷보안서비스사용여부','인터넷이용방식_인터넷백업서비스사용여부','인터넷이용방식_기기방화벽서비스사용여부','인터넷보안서비스사용여부_인터넷백업서비스사용여부','인터넷보안서비스사용여부_기기방화벽서비스사용여부','인터넷백업서비스사용여부_기기방화벽서비스사용여부']\n",
        "len(cols_num), len(cols_cat)"
      ],
      "metadata": {
        "colab": {
          "base_uri": "https://localhost:8080/"
        },
        "id": "Ohb3lu_LqiuU",
        "outputId": "17b9ea3c-2563-4ecf-e2da-63fd89a485ce"
      },
      "execution_count": null,
      "outputs": [
        {
          "output_type": "execute_result",
          "data": {
            "text/plain": [
              "(5, 36)"
            ]
          },
          "metadata": {},
          "execution_count": 31
        }
      ]
    },
    {
      "cell_type": "code",
      "source": [
        "train_ft[cols_cat].nunique() <= 10"
      ],
      "metadata": {
        "colab": {
          "base_uri": "https://localhost:8080/"
        },
        "id": "xfcCFgfBoRFu",
        "outputId": "cdb03af1-35ad-486a-e9b1-f3cfa1f06aa0"
      },
      "execution_count": null,
      "outputs": [
        {
          "output_type": "execute_result",
          "data": {
            "text/plain": [
              "성별                           True\n",
              "고령자여부                        True\n",
              "기혼여부                         True\n",
              "부양가족여부                       True\n",
              "집전화이용여부                      True\n",
              "다중회선여부                       True\n",
              "인터넷이용방식                      True\n",
              "인터넷보안서비스사용여부                 True\n",
              "인터넷백업서비스사용여부                 True\n",
              "기기방화벽서비스사용여부                 True\n",
              "인터넷기술지원서비스사용여부               True\n",
              "스트리밍TV여부                     True\n",
              "스트리밍영화여부                     True\n",
              "약정기간                         True\n",
              "지로여부                         True\n",
              "지불방법                         True\n",
              "스TV_스영화                      True\n",
              "부가서비스_5종                     True\n",
              "전자_가중치                       True\n",
              "고령자여부_기혼여부                   True\n",
              "고령자여부_부양가족여부                 True\n",
              "기혼여부_부양가족여부                  True\n",
              "집전화이용여부_다중회선여부               True\n",
              "집전화이용여부_인터넷이용방식              True\n",
              "집전화이용여부_인터넷보안서비스사용여부         True\n",
              "집전화이용여부_인터넷백업서비스사용여부         True\n",
              "집전화이용여부_기기방화벽서비스사용여부         True\n",
              "다중회선여부_인터넷이용방식               True\n",
              "다중회선여부_인터넷보안서비스사용여부          True\n",
              "다중회선여부_기기방화벽서비스사용여부          True\n",
              "인터넷이용방식_인터넷보안서비스사용여부         True\n",
              "인터넷이용방식_인터넷백업서비스사용여부         True\n",
              "인터넷이용방식_기기방화벽서비스사용여부         True\n",
              "인터넷보안서비스사용여부_인터넷백업서비스사용여부    True\n",
              "인터넷보안서비스사용여부_기기방화벽서비스사용여부    True\n",
              "인터넷백업서비스사용여부_기기방화벽서비스사용여부    True\n",
              "dtype: bool"
            ]
          },
          "metadata": {},
          "execution_count": 32
        }
      ]
    },
    {
      "cell_type": "code",
      "source": [
        "mask = train_ft[cols_cat].nunique() <= 10\n",
        "cols1 = train_ft[cols_cat].nunique().loc[mask].index.tolist()\n",
        "len(cols1)"
      ],
      "metadata": {
        "colab": {
          "base_uri": "https://localhost:8080/"
        },
        "id": "ZoBNuSxuqIOI",
        "outputId": "39d26c57-9f25-4934-c423-638f57f96cf4"
      },
      "execution_count": null,
      "outputs": [
        {
          "output_type": "execute_result",
          "data": {
            "text/plain": [
              "36"
            ]
          },
          "metadata": {},
          "execution_count": 33
        }
      ]
    },
    {
      "cell_type": "code",
      "source": [
        "enc = ce.count.CountEncoder(return_df=True,handle_unknown=0)\n",
        "\n",
        "# 학습데이터\n",
        "tmp = enc.fit_transform(train_ft[cols1]).add_prefix(\"count_\")\n",
        "train_ft = pd.concat([train_ft,tmp],axis=1)\n",
        "\n",
        "# 테스트데이터\n",
        "tmp = enc.transform(test_ft[cols1]).add_prefix(\"count_\")\n",
        "test_ft = pd.concat([test_ft,tmp],axis=1)"
      ],
      "metadata": {
        "id": "c-PegAnKqCMQ"
      },
      "execution_count": null,
      "outputs": []
    },
    {
      "cell_type": "code",
      "source": [
        "train_ft.columns"
      ],
      "metadata": {
        "colab": {
          "base_uri": "https://localhost:8080/"
        },
        "id": "Z4bfWJbhsqpJ",
        "outputId": "80201d90-6690-4f56-98bc-5e68c2778574"
      },
      "execution_count": null,
      "outputs": [
        {
          "output_type": "execute_result",
          "data": {
            "text/plain": [
              "Index(['성별', '고령자여부', '기혼여부', '부양가족여부', '가입기간', '집전화이용여부', '다중회선여부', '인터넷이용방식',\n",
              "       '인터넷보안서비스사용여부', '인터넷백업서비스사용여부', '기기방화벽서비스사용여부', '인터넷기술지원서비스사용여부',\n",
              "       '스트리밍TV여부', '스트리밍영화여부', '약정기간', '지로여부', '지불방법', '한달요금', '총지불요금',\n",
              "       '가입기간_약정기간_비율', '스TV_스영화', '부가서비스_5종', '총지불요금_편차', '전자_가중치',\n",
              "       '고령자여부_기혼여부', '고령자여부_부양가족여부', '기혼여부_부양가족여부', '집전화이용여부_다중회선여부',\n",
              "       '집전화이용여부_인터넷이용방식', '집전화이용여부_인터넷보안서비스사용여부', '집전화이용여부_인터넷백업서비스사용여부',\n",
              "       '집전화이용여부_기기방화벽서비스사용여부', '다중회선여부_인터넷이용방식', '다중회선여부_인터넷보안서비스사용여부',\n",
              "       '다중회선여부_인터넷백업서비스사용여부', '다중회선여부_기기방화벽서비스사용여부', '인터넷이용방식_인터넷보안서비스사용여부',\n",
              "       '인터넷이용방식_인터넷백업서비스사용여부', '인터넷이용방식_기기방화벽서비스사용여부',\n",
              "       '인터넷보안서비스사용여부_인터넷백업서비스사용여부', '인터넷보안서비스사용여부_기기방화벽서비스사용여부',\n",
              "       '인터넷백업서비스사용여부_기기방화벽서비스사용여부', 'count_성별', 'count_고령자여부', 'count_기혼여부',\n",
              "       'count_부양가족여부', 'count_집전화이용여부', 'count_다중회선여부', 'count_인터넷이용방식',\n",
              "       'count_인터넷보안서비스사용여부', 'count_인터넷백업서비스사용여부', 'count_기기방화벽서비스사용여부',\n",
              "       'count_인터넷기술지원서비스사용여부', 'count_스트리밍TV여부', 'count_스트리밍영화여부',\n",
              "       'count_약정기간', 'count_지로여부', 'count_지불방법', 'count_스TV_스영화',\n",
              "       'count_부가서비스_5종', 'count_전자_가중치', 'count_고령자여부_기혼여부',\n",
              "       'count_고령자여부_부양가족여부', 'count_기혼여부_부양가족여부', 'count_집전화이용여부_다중회선여부',\n",
              "       'count_집전화이용여부_인터넷이용방식', 'count_집전화이용여부_인터넷보안서비스사용여부',\n",
              "       'count_집전화이용여부_인터넷백업서비스사용여부', 'count_집전화이용여부_기기방화벽서비스사용여부',\n",
              "       'count_다중회선여부_인터넷이용방식', 'count_다중회선여부_인터넷보안서비스사용여부',\n",
              "       'count_다중회선여부_기기방화벽서비스사용여부', 'count_인터넷이용방식_인터넷보안서비스사용여부',\n",
              "       'count_인터넷이용방식_인터넷백업서비스사용여부', 'count_인터넷이용방식_기기방화벽서비스사용여부',\n",
              "       'count_인터넷보안서비스사용여부_인터넷백업서비스사용여부', 'count_인터넷보안서비스사용여부_기기방화벽서비스사용여부',\n",
              "       'count_인터넷백업서비스사용여부_기기방화벽서비스사용여부'],\n",
              "      dtype='object')"
            ]
          },
          "metadata": {},
          "execution_count": 35
        }
      ]
    },
    {
      "cell_type": "code",
      "source": [
        "train_ft"
      ],
      "metadata": {
        "colab": {
          "base_uri": "https://localhost:8080/",
          "height": 606
        },
        "id": "xgexCRK9A5vw",
        "outputId": "dfc540d5-d3c1-40ec-f1d8-a92bd6a9e722"
      },
      "execution_count": null,
      "outputs": [
        {
          "output_type": "execute_result",
          "data": {
            "text/plain": [
              "      성별  고령자여부  기혼여부  부양가족여부  가입기간  집전화이용여부  다중회선여부 인터넷이용방식  인터넷보안서비스사용여부  \\\n",
              "0      1      0     0       0    23        1       0       광             0   \n",
              "1      1      0     0       0     1        1       0     디지털             0   \n",
              "2      0      0     0       0    23        1       1       광             0   \n",
              "3      1      0     0       0    11        1       0     디지털             0   \n",
              "4      1      0     0       0     5        1       1       광             0   \n",
              "...   ..    ...   ...     ...   ...      ...     ...     ...           ...   \n",
              "4925   0      0     0       0    24        1       0       광             0   \n",
              "4926   0      1     1       0    72        0       0     디지털             1   \n",
              "4927   0      0     1       1    25        1       0       광             0   \n",
              "4928   0      0     1       0    48        1       1       광             1   \n",
              "4929   0      0     1       1    69        1       1       광             0   \n",
              "\n",
              "      인터넷백업서비스사용여부  ...  count_집전화이용여부_기기방화벽서비스사용여부  count_다중회선여부_인터넷이용방식  \\\n",
              "0                1  ...                        2969                  1655   \n",
              "1                0  ...                        2969                  1195   \n",
              "2                0  ...                        1492                  1590   \n",
              "3                0  ...                        1492                  1195   \n",
              "4                0  ...                        2969                  1590   \n",
              "...            ...  ...                         ...                   ...   \n",
              "4925             1  ...                        1492                  1655   \n",
              "4926             1  ...                         221                  1195   \n",
              "4927             0  ...                        2969                  1655   \n",
              "4928             1  ...                        1492                  1590   \n",
              "4929             0  ...                        1492                  1590   \n",
              "\n",
              "      count_다중회선여부_인터넷보안서비스사용여부  count_다중회선여부_기기방화벽서비스사용여부  \\\n",
              "0                          2134                       2086   \n",
              "1                          2134                       2086   \n",
              "2                          1372                        949   \n",
              "3                          2134                        764   \n",
              "4                          1372                       1131   \n",
              "...                         ...                        ...   \n",
              "4925                       2134                        764   \n",
              "4926                        716                        764   \n",
              "4927                       2134                       2086   \n",
              "4928                        708                        949   \n",
              "4929                       1372                        949   \n",
              "\n",
              "      count_인터넷이용방식_인터넷보안서비스사용여부  count_인터넷이용방식_인터넷백업서비스사용여부  \\\n",
              "0                           2655                         927   \n",
              "1                            851                         915   \n",
              "2                           2655                        2318   \n",
              "3                            851                         915   \n",
              "4                           2655                        2318   \n",
              "...                          ...                         ...   \n",
              "4925                        2655                         927   \n",
              "4926                         834                         770   \n",
              "4927                        2655                        2318   \n",
              "4928                         590                         927   \n",
              "4929                        2655                        2318   \n",
              "\n",
              "     count_인터넷이용방식_기기방화벽서비스사용여부  count_인터넷보안서비스사용여부_인터넷백업서비스사용여부  \\\n",
              "0                          2306                              894   \n",
              "1                           911                             2612   \n",
              "2                           939                             2612   \n",
              "3                           774                             2612   \n",
              "4                          2306                             2612   \n",
              "...                         ...                              ...   \n",
              "4925                        939                              894   \n",
              "4926                        774                              803   \n",
              "4927                       2306                             2612   \n",
              "4928                        939                              803   \n",
              "4929                        939                             2612   \n",
              "\n",
              "      count_인터넷보안서비스사용여부_기기방화벽서비스사용여부  count_인터넷백업서비스사용여부_기기방화벽서비스사용여부  \n",
              "0                                2581                              758  \n",
              "1                                2581                             2459  \n",
              "2                                 925                              774  \n",
              "3                                 925                              774  \n",
              "4                                2581                             2459  \n",
              "...                               ...                              ...  \n",
              "4925                              925                              939  \n",
              "4926                              788                              939  \n",
              "4927                             2581                             2459  \n",
              "4928                              788                              939  \n",
              "4929                              925                              774  \n",
              "\n",
              "[4930 rows x 78 columns]"
            ],
            "text/html": [
              "\n",
              "  <div id=\"df-449c3ac2-7d14-414a-9ca1-d1033ca0075b\">\n",
              "    <div class=\"colab-df-container\">\n",
              "      <div>\n",
              "<style scoped>\n",
              "    .dataframe tbody tr th:only-of-type {\n",
              "        vertical-align: middle;\n",
              "    }\n",
              "\n",
              "    .dataframe tbody tr th {\n",
              "        vertical-align: top;\n",
              "    }\n",
              "\n",
              "    .dataframe thead th {\n",
              "        text-align: right;\n",
              "    }\n",
              "</style>\n",
              "<table border=\"1\" class=\"dataframe\">\n",
              "  <thead>\n",
              "    <tr style=\"text-align: right;\">\n",
              "      <th></th>\n",
              "      <th>성별</th>\n",
              "      <th>고령자여부</th>\n",
              "      <th>기혼여부</th>\n",
              "      <th>부양가족여부</th>\n",
              "      <th>가입기간</th>\n",
              "      <th>집전화이용여부</th>\n",
              "      <th>다중회선여부</th>\n",
              "      <th>인터넷이용방식</th>\n",
              "      <th>인터넷보안서비스사용여부</th>\n",
              "      <th>인터넷백업서비스사용여부</th>\n",
              "      <th>...</th>\n",
              "      <th>count_집전화이용여부_기기방화벽서비스사용여부</th>\n",
              "      <th>count_다중회선여부_인터넷이용방식</th>\n",
              "      <th>count_다중회선여부_인터넷보안서비스사용여부</th>\n",
              "      <th>count_다중회선여부_기기방화벽서비스사용여부</th>\n",
              "      <th>count_인터넷이용방식_인터넷보안서비스사용여부</th>\n",
              "      <th>count_인터넷이용방식_인터넷백업서비스사용여부</th>\n",
              "      <th>count_인터넷이용방식_기기방화벽서비스사용여부</th>\n",
              "      <th>count_인터넷보안서비스사용여부_인터넷백업서비스사용여부</th>\n",
              "      <th>count_인터넷보안서비스사용여부_기기방화벽서비스사용여부</th>\n",
              "      <th>count_인터넷백업서비스사용여부_기기방화벽서비스사용여부</th>\n",
              "    </tr>\n",
              "  </thead>\n",
              "  <tbody>\n",
              "    <tr>\n",
              "      <th>0</th>\n",
              "      <td>1</td>\n",
              "      <td>0</td>\n",
              "      <td>0</td>\n",
              "      <td>0</td>\n",
              "      <td>23</td>\n",
              "      <td>1</td>\n",
              "      <td>0</td>\n",
              "      <td>광</td>\n",
              "      <td>0</td>\n",
              "      <td>1</td>\n",
              "      <td>...</td>\n",
              "      <td>2969</td>\n",
              "      <td>1655</td>\n",
              "      <td>2134</td>\n",
              "      <td>2086</td>\n",
              "      <td>2655</td>\n",
              "      <td>927</td>\n",
              "      <td>2306</td>\n",
              "      <td>894</td>\n",
              "      <td>2581</td>\n",
              "      <td>758</td>\n",
              "    </tr>\n",
              "    <tr>\n",
              "      <th>1</th>\n",
              "      <td>1</td>\n",
              "      <td>0</td>\n",
              "      <td>0</td>\n",
              "      <td>0</td>\n",
              "      <td>1</td>\n",
              "      <td>1</td>\n",
              "      <td>0</td>\n",
              "      <td>디지털</td>\n",
              "      <td>0</td>\n",
              "      <td>0</td>\n",
              "      <td>...</td>\n",
              "      <td>2969</td>\n",
              "      <td>1195</td>\n",
              "      <td>2134</td>\n",
              "      <td>2086</td>\n",
              "      <td>851</td>\n",
              "      <td>915</td>\n",
              "      <td>911</td>\n",
              "      <td>2612</td>\n",
              "      <td>2581</td>\n",
              "      <td>2459</td>\n",
              "    </tr>\n",
              "    <tr>\n",
              "      <th>2</th>\n",
              "      <td>0</td>\n",
              "      <td>0</td>\n",
              "      <td>0</td>\n",
              "      <td>0</td>\n",
              "      <td>23</td>\n",
              "      <td>1</td>\n",
              "      <td>1</td>\n",
              "      <td>광</td>\n",
              "      <td>0</td>\n",
              "      <td>0</td>\n",
              "      <td>...</td>\n",
              "      <td>1492</td>\n",
              "      <td>1590</td>\n",
              "      <td>1372</td>\n",
              "      <td>949</td>\n",
              "      <td>2655</td>\n",
              "      <td>2318</td>\n",
              "      <td>939</td>\n",
              "      <td>2612</td>\n",
              "      <td>925</td>\n",
              "      <td>774</td>\n",
              "    </tr>\n",
              "    <tr>\n",
              "      <th>3</th>\n",
              "      <td>1</td>\n",
              "      <td>0</td>\n",
              "      <td>0</td>\n",
              "      <td>0</td>\n",
              "      <td>11</td>\n",
              "      <td>1</td>\n",
              "      <td>0</td>\n",
              "      <td>디지털</td>\n",
              "      <td>0</td>\n",
              "      <td>0</td>\n",
              "      <td>...</td>\n",
              "      <td>1492</td>\n",
              "      <td>1195</td>\n",
              "      <td>2134</td>\n",
              "      <td>764</td>\n",
              "      <td>851</td>\n",
              "      <td>915</td>\n",
              "      <td>774</td>\n",
              "      <td>2612</td>\n",
              "      <td>925</td>\n",
              "      <td>774</td>\n",
              "    </tr>\n",
              "    <tr>\n",
              "      <th>4</th>\n",
              "      <td>1</td>\n",
              "      <td>0</td>\n",
              "      <td>0</td>\n",
              "      <td>0</td>\n",
              "      <td>5</td>\n",
              "      <td>1</td>\n",
              "      <td>1</td>\n",
              "      <td>광</td>\n",
              "      <td>0</td>\n",
              "      <td>0</td>\n",
              "      <td>...</td>\n",
              "      <td>2969</td>\n",
              "      <td>1590</td>\n",
              "      <td>1372</td>\n",
              "      <td>1131</td>\n",
              "      <td>2655</td>\n",
              "      <td>2318</td>\n",
              "      <td>2306</td>\n",
              "      <td>2612</td>\n",
              "      <td>2581</td>\n",
              "      <td>2459</td>\n",
              "    </tr>\n",
              "    <tr>\n",
              "      <th>...</th>\n",
              "      <td>...</td>\n",
              "      <td>...</td>\n",
              "      <td>...</td>\n",
              "      <td>...</td>\n",
              "      <td>...</td>\n",
              "      <td>...</td>\n",
              "      <td>...</td>\n",
              "      <td>...</td>\n",
              "      <td>...</td>\n",
              "      <td>...</td>\n",
              "      <td>...</td>\n",
              "      <td>...</td>\n",
              "      <td>...</td>\n",
              "      <td>...</td>\n",
              "      <td>...</td>\n",
              "      <td>...</td>\n",
              "      <td>...</td>\n",
              "      <td>...</td>\n",
              "      <td>...</td>\n",
              "      <td>...</td>\n",
              "      <td>...</td>\n",
              "    </tr>\n",
              "    <tr>\n",
              "      <th>4925</th>\n",
              "      <td>0</td>\n",
              "      <td>0</td>\n",
              "      <td>0</td>\n",
              "      <td>0</td>\n",
              "      <td>24</td>\n",
              "      <td>1</td>\n",
              "      <td>0</td>\n",
              "      <td>광</td>\n",
              "      <td>0</td>\n",
              "      <td>1</td>\n",
              "      <td>...</td>\n",
              "      <td>1492</td>\n",
              "      <td>1655</td>\n",
              "      <td>2134</td>\n",
              "      <td>764</td>\n",
              "      <td>2655</td>\n",
              "      <td>927</td>\n",
              "      <td>939</td>\n",
              "      <td>894</td>\n",
              "      <td>925</td>\n",
              "      <td>939</td>\n",
              "    </tr>\n",
              "    <tr>\n",
              "      <th>4926</th>\n",
              "      <td>0</td>\n",
              "      <td>1</td>\n",
              "      <td>1</td>\n",
              "      <td>0</td>\n",
              "      <td>72</td>\n",
              "      <td>0</td>\n",
              "      <td>0</td>\n",
              "      <td>디지털</td>\n",
              "      <td>1</td>\n",
              "      <td>1</td>\n",
              "      <td>...</td>\n",
              "      <td>221</td>\n",
              "      <td>1195</td>\n",
              "      <td>716</td>\n",
              "      <td>764</td>\n",
              "      <td>834</td>\n",
              "      <td>770</td>\n",
              "      <td>774</td>\n",
              "      <td>803</td>\n",
              "      <td>788</td>\n",
              "      <td>939</td>\n",
              "    </tr>\n",
              "    <tr>\n",
              "      <th>4927</th>\n",
              "      <td>0</td>\n",
              "      <td>0</td>\n",
              "      <td>1</td>\n",
              "      <td>1</td>\n",
              "      <td>25</td>\n",
              "      <td>1</td>\n",
              "      <td>0</td>\n",
              "      <td>광</td>\n",
              "      <td>0</td>\n",
              "      <td>0</td>\n",
              "      <td>...</td>\n",
              "      <td>2969</td>\n",
              "      <td>1655</td>\n",
              "      <td>2134</td>\n",
              "      <td>2086</td>\n",
              "      <td>2655</td>\n",
              "      <td>2318</td>\n",
              "      <td>2306</td>\n",
              "      <td>2612</td>\n",
              "      <td>2581</td>\n",
              "      <td>2459</td>\n",
              "    </tr>\n",
              "    <tr>\n",
              "      <th>4928</th>\n",
              "      <td>0</td>\n",
              "      <td>0</td>\n",
              "      <td>1</td>\n",
              "      <td>0</td>\n",
              "      <td>48</td>\n",
              "      <td>1</td>\n",
              "      <td>1</td>\n",
              "      <td>광</td>\n",
              "      <td>1</td>\n",
              "      <td>1</td>\n",
              "      <td>...</td>\n",
              "      <td>1492</td>\n",
              "      <td>1590</td>\n",
              "      <td>708</td>\n",
              "      <td>949</td>\n",
              "      <td>590</td>\n",
              "      <td>927</td>\n",
              "      <td>939</td>\n",
              "      <td>803</td>\n",
              "      <td>788</td>\n",
              "      <td>939</td>\n",
              "    </tr>\n",
              "    <tr>\n",
              "      <th>4929</th>\n",
              "      <td>0</td>\n",
              "      <td>0</td>\n",
              "      <td>1</td>\n",
              "      <td>1</td>\n",
              "      <td>69</td>\n",
              "      <td>1</td>\n",
              "      <td>1</td>\n",
              "      <td>광</td>\n",
              "      <td>0</td>\n",
              "      <td>0</td>\n",
              "      <td>...</td>\n",
              "      <td>1492</td>\n",
              "      <td>1590</td>\n",
              "      <td>1372</td>\n",
              "      <td>949</td>\n",
              "      <td>2655</td>\n",
              "      <td>2318</td>\n",
              "      <td>939</td>\n",
              "      <td>2612</td>\n",
              "      <td>925</td>\n",
              "      <td>774</td>\n",
              "    </tr>\n",
              "  </tbody>\n",
              "</table>\n",
              "<p>4930 rows × 78 columns</p>\n",
              "</div>\n",
              "      <button class=\"colab-df-convert\" onclick=\"convertToInteractive('df-449c3ac2-7d14-414a-9ca1-d1033ca0075b')\"\n",
              "              title=\"Convert this dataframe to an interactive table.\"\n",
              "              style=\"display:none;\">\n",
              "        \n",
              "  <svg xmlns=\"http://www.w3.org/2000/svg\" height=\"24px\"viewBox=\"0 0 24 24\"\n",
              "       width=\"24px\">\n",
              "    <path d=\"M0 0h24v24H0V0z\" fill=\"none\"/>\n",
              "    <path d=\"M18.56 5.44l.94 2.06.94-2.06 2.06-.94-2.06-.94-.94-2.06-.94 2.06-2.06.94zm-11 1L8.5 8.5l.94-2.06 2.06-.94-2.06-.94L8.5 2.5l-.94 2.06-2.06.94zm10 10l.94 2.06.94-2.06 2.06-.94-2.06-.94-.94-2.06-.94 2.06-2.06.94z\"/><path d=\"M17.41 7.96l-1.37-1.37c-.4-.4-.92-.59-1.43-.59-.52 0-1.04.2-1.43.59L10.3 9.45l-7.72 7.72c-.78.78-.78 2.05 0 2.83L4 21.41c.39.39.9.59 1.41.59.51 0 1.02-.2 1.41-.59l7.78-7.78 2.81-2.81c.8-.78.8-2.07 0-2.86zM5.41 20L4 18.59l7.72-7.72 1.47 1.35L5.41 20z\"/>\n",
              "  </svg>\n",
              "      </button>\n",
              "      \n",
              "  <style>\n",
              "    .colab-df-container {\n",
              "      display:flex;\n",
              "      flex-wrap:wrap;\n",
              "      gap: 12px;\n",
              "    }\n",
              "\n",
              "    .colab-df-convert {\n",
              "      background-color: #E8F0FE;\n",
              "      border: none;\n",
              "      border-radius: 50%;\n",
              "      cursor: pointer;\n",
              "      display: none;\n",
              "      fill: #1967D2;\n",
              "      height: 32px;\n",
              "      padding: 0 0 0 0;\n",
              "      width: 32px;\n",
              "    }\n",
              "\n",
              "    .colab-df-convert:hover {\n",
              "      background-color: #E2EBFA;\n",
              "      box-shadow: 0px 1px 2px rgba(60, 64, 67, 0.3), 0px 1px 3px 1px rgba(60, 64, 67, 0.15);\n",
              "      fill: #174EA6;\n",
              "    }\n",
              "\n",
              "    [theme=dark] .colab-df-convert {\n",
              "      background-color: #3B4455;\n",
              "      fill: #D2E3FC;\n",
              "    }\n",
              "\n",
              "    [theme=dark] .colab-df-convert:hover {\n",
              "      background-color: #434B5C;\n",
              "      box-shadow: 0px 1px 3px 1px rgba(0, 0, 0, 0.15);\n",
              "      filter: drop-shadow(0px 1px 2px rgba(0, 0, 0, 0.3));\n",
              "      fill: #FFFFFF;\n",
              "    }\n",
              "  </style>\n",
              "\n",
              "      <script>\n",
              "        const buttonEl =\n",
              "          document.querySelector('#df-449c3ac2-7d14-414a-9ca1-d1033ca0075b button.colab-df-convert');\n",
              "        buttonEl.style.display =\n",
              "          google.colab.kernel.accessAllowed ? 'block' : 'none';\n",
              "\n",
              "        async function convertToInteractive(key) {\n",
              "          const element = document.querySelector('#df-449c3ac2-7d14-414a-9ca1-d1033ca0075b');\n",
              "          const dataTable =\n",
              "            await google.colab.kernel.invokeFunction('convertToInteractive',\n",
              "                                                     [key], {});\n",
              "          if (!dataTable) return;\n",
              "\n",
              "          const docLinkHtml = 'Like what you see? Visit the ' +\n",
              "            '<a target=\"_blank\" href=https://colab.research.google.com/notebooks/data_table.ipynb>data table notebook</a>'\n",
              "            + ' to learn more about interactive tables.';\n",
              "          element.innerHTML = '';\n",
              "          dataTable['output_type'] = 'display_data';\n",
              "          await google.colab.output.renderOutput(dataTable, element);\n",
              "          const docLink = document.createElement('div');\n",
              "          docLink.innerHTML = docLinkHtml;\n",
              "          element.appendChild(docLink);\n",
              "        }\n",
              "      </script>\n",
              "    </div>\n",
              "  </div>\n",
              "  "
            ]
          },
          "metadata": {},
          "execution_count": 36
        }
      ]
    },
    {
      "cell_type": "code",
      "source": [
        "train_ft = train_ft.drop(columns = cols_cat)\n",
        "test_ft = test_ft.drop(columns = cols_cat)\n",
        "\n",
        "train_ft.shape , test_ft.shape"
      ],
      "metadata": {
        "colab": {
          "base_uri": "https://localhost:8080/"
        },
        "id": "l-mrlutPkCVG",
        "outputId": "d278aed7-31fd-4237-b17a-6615c84a3c48"
      },
      "execution_count": null,
      "outputs": [
        {
          "output_type": "execute_result",
          "data": {
            "text/plain": [
              "((4930, 42), (2113, 42))"
            ]
          },
          "metadata": {},
          "execution_count": 37
        }
      ]
    },
    {
      "cell_type": "code",
      "source": [
        "train_ft"
      ],
      "metadata": {
        "colab": {
          "base_uri": "https://localhost:8080/",
          "height": 571
        },
        "id": "FYT-XFyEA-FE",
        "outputId": "2228ece1-1509-4e76-9128-205eda7c6946"
      },
      "execution_count": null,
      "outputs": [
        {
          "output_type": "execute_result",
          "data": {
            "text/plain": [
              "      가입기간    한달요금    총지불요금  가입기간_약정기간_비율     총지불요금_편차 다중회선여부_인터넷백업서비스사용여부  \\\n",
              "0       23   79.10  1783.75          23.0   699.636955                 0_1   \n",
              "1        1   45.40    45.40           1.0    24.435916                 0_0   \n",
              "2       23  104.05  2470.10          23.0   699.636955                 1_0   \n",
              "3       11   64.90   697.25           5.5   292.605845                 0_0   \n",
              "4        5   85.20   474.80           5.0   124.615027                 1_0   \n",
              "...    ...     ...      ...           ...          ...                 ...   \n",
              "4925    24   85.95  2107.15          24.0   650.507418                 0_1   \n",
              "4926    72   63.10  4685.55          24.0  2383.773698                 0_1   \n",
              "4927    25   19.90   505.45          12.5   741.001974                 0_0   \n",
              "4928    48   96.90  4473.45          16.0  1582.439597                 1_1   \n",
              "4929    69   79.20  5420.65          23.0  2374.854957                 1_0   \n",
              "\n",
              "      count_성별  count_고령자여부  count_기혼여부  count_부양가족여부  ...  \\\n",
              "0            1            0           0             0  ...   \n",
              "1            1            0           0             0  ...   \n",
              "2            0            0           0             0  ...   \n",
              "3            1            0           0             0  ...   \n",
              "4            1            0           0             0  ...   \n",
              "...        ...          ...         ...           ...  ...   \n",
              "4925         0            0           0             0  ...   \n",
              "4926         0            1           1             0  ...   \n",
              "4927         0            0           1             1  ...   \n",
              "4928         0            0           1             0  ...   \n",
              "4929         0            0           1             1  ...   \n",
              "\n",
              "      count_집전화이용여부_기기방화벽서비스사용여부  count_다중회선여부_인터넷이용방식  \\\n",
              "0                           2969                  1655   \n",
              "1                           2969                  1195   \n",
              "2                           1492                  1590   \n",
              "3                           1492                  1195   \n",
              "4                           2969                  1590   \n",
              "...                          ...                   ...   \n",
              "4925                        1492                  1655   \n",
              "4926                         221                  1195   \n",
              "4927                        2969                  1655   \n",
              "4928                        1492                  1590   \n",
              "4929                        1492                  1590   \n",
              "\n",
              "      count_다중회선여부_인터넷보안서비스사용여부  count_다중회선여부_기기방화벽서비스사용여부  \\\n",
              "0                          2134                       2086   \n",
              "1                          2134                       2086   \n",
              "2                          1372                        949   \n",
              "3                          2134                        764   \n",
              "4                          1372                       1131   \n",
              "...                         ...                        ...   \n",
              "4925                       2134                        764   \n",
              "4926                        716                        764   \n",
              "4927                       2134                       2086   \n",
              "4928                        708                        949   \n",
              "4929                       1372                        949   \n",
              "\n",
              "      count_인터넷이용방식_인터넷보안서비스사용여부  count_인터넷이용방식_인터넷백업서비스사용여부  \\\n",
              "0                           2655                         927   \n",
              "1                            851                         915   \n",
              "2                           2655                        2318   \n",
              "3                            851                         915   \n",
              "4                           2655                        2318   \n",
              "...                          ...                         ...   \n",
              "4925                        2655                         927   \n",
              "4926                         834                         770   \n",
              "4927                        2655                        2318   \n",
              "4928                         590                         927   \n",
              "4929                        2655                        2318   \n",
              "\n",
              "      count_인터넷이용방식_기기방화벽서비스사용여부  count_인터넷보안서비스사용여부_인터넷백업서비스사용여부  \\\n",
              "0                           2306                              894   \n",
              "1                            911                             2612   \n",
              "2                            939                             2612   \n",
              "3                            774                             2612   \n",
              "4                           2306                             2612   \n",
              "...                          ...                              ...   \n",
              "4925                         939                              894   \n",
              "4926                         774                              803   \n",
              "4927                        2306                             2612   \n",
              "4928                         939                              803   \n",
              "4929                         939                             2612   \n",
              "\n",
              "      count_인터넷보안서비스사용여부_기기방화벽서비스사용여부  count_인터넷백업서비스사용여부_기기방화벽서비스사용여부  \n",
              "0                                2581                              758  \n",
              "1                                2581                             2459  \n",
              "2                                 925                              774  \n",
              "3                                 925                              774  \n",
              "4                                2581                             2459  \n",
              "...                               ...                              ...  \n",
              "4925                              925                              939  \n",
              "4926                              788                              939  \n",
              "4927                             2581                             2459  \n",
              "4928                              788                              939  \n",
              "4929                              925                              774  \n",
              "\n",
              "[4930 rows x 42 columns]"
            ],
            "text/html": [
              "\n",
              "  <div id=\"df-aeff900d-311a-4e77-8e50-3eda54616a11\">\n",
              "    <div class=\"colab-df-container\">\n",
              "      <div>\n",
              "<style scoped>\n",
              "    .dataframe tbody tr th:only-of-type {\n",
              "        vertical-align: middle;\n",
              "    }\n",
              "\n",
              "    .dataframe tbody tr th {\n",
              "        vertical-align: top;\n",
              "    }\n",
              "\n",
              "    .dataframe thead th {\n",
              "        text-align: right;\n",
              "    }\n",
              "</style>\n",
              "<table border=\"1\" class=\"dataframe\">\n",
              "  <thead>\n",
              "    <tr style=\"text-align: right;\">\n",
              "      <th></th>\n",
              "      <th>가입기간</th>\n",
              "      <th>한달요금</th>\n",
              "      <th>총지불요금</th>\n",
              "      <th>가입기간_약정기간_비율</th>\n",
              "      <th>총지불요금_편차</th>\n",
              "      <th>다중회선여부_인터넷백업서비스사용여부</th>\n",
              "      <th>count_성별</th>\n",
              "      <th>count_고령자여부</th>\n",
              "      <th>count_기혼여부</th>\n",
              "      <th>count_부양가족여부</th>\n",
              "      <th>...</th>\n",
              "      <th>count_집전화이용여부_기기방화벽서비스사용여부</th>\n",
              "      <th>count_다중회선여부_인터넷이용방식</th>\n",
              "      <th>count_다중회선여부_인터넷보안서비스사용여부</th>\n",
              "      <th>count_다중회선여부_기기방화벽서비스사용여부</th>\n",
              "      <th>count_인터넷이용방식_인터넷보안서비스사용여부</th>\n",
              "      <th>count_인터넷이용방식_인터넷백업서비스사용여부</th>\n",
              "      <th>count_인터넷이용방식_기기방화벽서비스사용여부</th>\n",
              "      <th>count_인터넷보안서비스사용여부_인터넷백업서비스사용여부</th>\n",
              "      <th>count_인터넷보안서비스사용여부_기기방화벽서비스사용여부</th>\n",
              "      <th>count_인터넷백업서비스사용여부_기기방화벽서비스사용여부</th>\n",
              "    </tr>\n",
              "  </thead>\n",
              "  <tbody>\n",
              "    <tr>\n",
              "      <th>0</th>\n",
              "      <td>23</td>\n",
              "      <td>79.10</td>\n",
              "      <td>1783.75</td>\n",
              "      <td>23.0</td>\n",
              "      <td>699.636955</td>\n",
              "      <td>0_1</td>\n",
              "      <td>1</td>\n",
              "      <td>0</td>\n",
              "      <td>0</td>\n",
              "      <td>0</td>\n",
              "      <td>...</td>\n",
              "      <td>2969</td>\n",
              "      <td>1655</td>\n",
              "      <td>2134</td>\n",
              "      <td>2086</td>\n",
              "      <td>2655</td>\n",
              "      <td>927</td>\n",
              "      <td>2306</td>\n",
              "      <td>894</td>\n",
              "      <td>2581</td>\n",
              "      <td>758</td>\n",
              "    </tr>\n",
              "    <tr>\n",
              "      <th>1</th>\n",
              "      <td>1</td>\n",
              "      <td>45.40</td>\n",
              "      <td>45.40</td>\n",
              "      <td>1.0</td>\n",
              "      <td>24.435916</td>\n",
              "      <td>0_0</td>\n",
              "      <td>1</td>\n",
              "      <td>0</td>\n",
              "      <td>0</td>\n",
              "      <td>0</td>\n",
              "      <td>...</td>\n",
              "      <td>2969</td>\n",
              "      <td>1195</td>\n",
              "      <td>2134</td>\n",
              "      <td>2086</td>\n",
              "      <td>851</td>\n",
              "      <td>915</td>\n",
              "      <td>911</td>\n",
              "      <td>2612</td>\n",
              "      <td>2581</td>\n",
              "      <td>2459</td>\n",
              "    </tr>\n",
              "    <tr>\n",
              "      <th>2</th>\n",
              "      <td>23</td>\n",
              "      <td>104.05</td>\n",
              "      <td>2470.10</td>\n",
              "      <td>23.0</td>\n",
              "      <td>699.636955</td>\n",
              "      <td>1_0</td>\n",
              "      <td>0</td>\n",
              "      <td>0</td>\n",
              "      <td>0</td>\n",
              "      <td>0</td>\n",
              "      <td>...</td>\n",
              "      <td>1492</td>\n",
              "      <td>1590</td>\n",
              "      <td>1372</td>\n",
              "      <td>949</td>\n",
              "      <td>2655</td>\n",
              "      <td>2318</td>\n",
              "      <td>939</td>\n",
              "      <td>2612</td>\n",
              "      <td>925</td>\n",
              "      <td>774</td>\n",
              "    </tr>\n",
              "    <tr>\n",
              "      <th>3</th>\n",
              "      <td>11</td>\n",
              "      <td>64.90</td>\n",
              "      <td>697.25</td>\n",
              "      <td>5.5</td>\n",
              "      <td>292.605845</td>\n",
              "      <td>0_0</td>\n",
              "      <td>1</td>\n",
              "      <td>0</td>\n",
              "      <td>0</td>\n",
              "      <td>0</td>\n",
              "      <td>...</td>\n",
              "      <td>1492</td>\n",
              "      <td>1195</td>\n",
              "      <td>2134</td>\n",
              "      <td>764</td>\n",
              "      <td>851</td>\n",
              "      <td>915</td>\n",
              "      <td>774</td>\n",
              "      <td>2612</td>\n",
              "      <td>925</td>\n",
              "      <td>774</td>\n",
              "    </tr>\n",
              "    <tr>\n",
              "      <th>4</th>\n",
              "      <td>5</td>\n",
              "      <td>85.20</td>\n",
              "      <td>474.80</td>\n",
              "      <td>5.0</td>\n",
              "      <td>124.615027</td>\n",
              "      <td>1_0</td>\n",
              "      <td>1</td>\n",
              "      <td>0</td>\n",
              "      <td>0</td>\n",
              "      <td>0</td>\n",
              "      <td>...</td>\n",
              "      <td>2969</td>\n",
              "      <td>1590</td>\n",
              "      <td>1372</td>\n",
              "      <td>1131</td>\n",
              "      <td>2655</td>\n",
              "      <td>2318</td>\n",
              "      <td>2306</td>\n",
              "      <td>2612</td>\n",
              "      <td>2581</td>\n",
              "      <td>2459</td>\n",
              "    </tr>\n",
              "    <tr>\n",
              "      <th>...</th>\n",
              "      <td>...</td>\n",
              "      <td>...</td>\n",
              "      <td>...</td>\n",
              "      <td>...</td>\n",
              "      <td>...</td>\n",
              "      <td>...</td>\n",
              "      <td>...</td>\n",
              "      <td>...</td>\n",
              "      <td>...</td>\n",
              "      <td>...</td>\n",
              "      <td>...</td>\n",
              "      <td>...</td>\n",
              "      <td>...</td>\n",
              "      <td>...</td>\n",
              "      <td>...</td>\n",
              "      <td>...</td>\n",
              "      <td>...</td>\n",
              "      <td>...</td>\n",
              "      <td>...</td>\n",
              "      <td>...</td>\n",
              "      <td>...</td>\n",
              "    </tr>\n",
              "    <tr>\n",
              "      <th>4925</th>\n",
              "      <td>24</td>\n",
              "      <td>85.95</td>\n",
              "      <td>2107.15</td>\n",
              "      <td>24.0</td>\n",
              "      <td>650.507418</td>\n",
              "      <td>0_1</td>\n",
              "      <td>0</td>\n",
              "      <td>0</td>\n",
              "      <td>0</td>\n",
              "      <td>0</td>\n",
              "      <td>...</td>\n",
              "      <td>1492</td>\n",
              "      <td>1655</td>\n",
              "      <td>2134</td>\n",
              "      <td>764</td>\n",
              "      <td>2655</td>\n",
              "      <td>927</td>\n",
              "      <td>939</td>\n",
              "      <td>894</td>\n",
              "      <td>925</td>\n",
              "      <td>939</td>\n",
              "    </tr>\n",
              "    <tr>\n",
              "      <th>4926</th>\n",
              "      <td>72</td>\n",
              "      <td>63.10</td>\n",
              "      <td>4685.55</td>\n",
              "      <td>24.0</td>\n",
              "      <td>2383.773698</td>\n",
              "      <td>0_1</td>\n",
              "      <td>0</td>\n",
              "      <td>1</td>\n",
              "      <td>1</td>\n",
              "      <td>0</td>\n",
              "      <td>...</td>\n",
              "      <td>221</td>\n",
              "      <td>1195</td>\n",
              "      <td>716</td>\n",
              "      <td>764</td>\n",
              "      <td>834</td>\n",
              "      <td>770</td>\n",
              "      <td>774</td>\n",
              "      <td>803</td>\n",
              "      <td>788</td>\n",
              "      <td>939</td>\n",
              "    </tr>\n",
              "    <tr>\n",
              "      <th>4927</th>\n",
              "      <td>25</td>\n",
              "      <td>19.90</td>\n",
              "      <td>505.45</td>\n",
              "      <td>12.5</td>\n",
              "      <td>741.001974</td>\n",
              "      <td>0_0</td>\n",
              "      <td>0</td>\n",
              "      <td>0</td>\n",
              "      <td>1</td>\n",
              "      <td>1</td>\n",
              "      <td>...</td>\n",
              "      <td>2969</td>\n",
              "      <td>1655</td>\n",
              "      <td>2134</td>\n",
              "      <td>2086</td>\n",
              "      <td>2655</td>\n",
              "      <td>2318</td>\n",
              "      <td>2306</td>\n",
              "      <td>2612</td>\n",
              "      <td>2581</td>\n",
              "      <td>2459</td>\n",
              "    </tr>\n",
              "    <tr>\n",
              "      <th>4928</th>\n",
              "      <td>48</td>\n",
              "      <td>96.90</td>\n",
              "      <td>4473.45</td>\n",
              "      <td>16.0</td>\n",
              "      <td>1582.439597</td>\n",
              "      <td>1_1</td>\n",
              "      <td>0</td>\n",
              "      <td>0</td>\n",
              "      <td>1</td>\n",
              "      <td>0</td>\n",
              "      <td>...</td>\n",
              "      <td>1492</td>\n",
              "      <td>1590</td>\n",
              "      <td>708</td>\n",
              "      <td>949</td>\n",
              "      <td>590</td>\n",
              "      <td>927</td>\n",
              "      <td>939</td>\n",
              "      <td>803</td>\n",
              "      <td>788</td>\n",
              "      <td>939</td>\n",
              "    </tr>\n",
              "    <tr>\n",
              "      <th>4929</th>\n",
              "      <td>69</td>\n",
              "      <td>79.20</td>\n",
              "      <td>5420.65</td>\n",
              "      <td>23.0</td>\n",
              "      <td>2374.854957</td>\n",
              "      <td>1_0</td>\n",
              "      <td>0</td>\n",
              "      <td>0</td>\n",
              "      <td>1</td>\n",
              "      <td>1</td>\n",
              "      <td>...</td>\n",
              "      <td>1492</td>\n",
              "      <td>1590</td>\n",
              "      <td>1372</td>\n",
              "      <td>949</td>\n",
              "      <td>2655</td>\n",
              "      <td>2318</td>\n",
              "      <td>939</td>\n",
              "      <td>2612</td>\n",
              "      <td>925</td>\n",
              "      <td>774</td>\n",
              "    </tr>\n",
              "  </tbody>\n",
              "</table>\n",
              "<p>4930 rows × 42 columns</p>\n",
              "</div>\n",
              "      <button class=\"colab-df-convert\" onclick=\"convertToInteractive('df-aeff900d-311a-4e77-8e50-3eda54616a11')\"\n",
              "              title=\"Convert this dataframe to an interactive table.\"\n",
              "              style=\"display:none;\">\n",
              "        \n",
              "  <svg xmlns=\"http://www.w3.org/2000/svg\" height=\"24px\"viewBox=\"0 0 24 24\"\n",
              "       width=\"24px\">\n",
              "    <path d=\"M0 0h24v24H0V0z\" fill=\"none\"/>\n",
              "    <path d=\"M18.56 5.44l.94 2.06.94-2.06 2.06-.94-2.06-.94-.94-2.06-.94 2.06-2.06.94zm-11 1L8.5 8.5l.94-2.06 2.06-.94-2.06-.94L8.5 2.5l-.94 2.06-2.06.94zm10 10l.94 2.06.94-2.06 2.06-.94-2.06-.94-.94-2.06-.94 2.06-2.06.94z\"/><path d=\"M17.41 7.96l-1.37-1.37c-.4-.4-.92-.59-1.43-.59-.52 0-1.04.2-1.43.59L10.3 9.45l-7.72 7.72c-.78.78-.78 2.05 0 2.83L4 21.41c.39.39.9.59 1.41.59.51 0 1.02-.2 1.41-.59l7.78-7.78 2.81-2.81c.8-.78.8-2.07 0-2.86zM5.41 20L4 18.59l7.72-7.72 1.47 1.35L5.41 20z\"/>\n",
              "  </svg>\n",
              "      </button>\n",
              "      \n",
              "  <style>\n",
              "    .colab-df-container {\n",
              "      display:flex;\n",
              "      flex-wrap:wrap;\n",
              "      gap: 12px;\n",
              "    }\n",
              "\n",
              "    .colab-df-convert {\n",
              "      background-color: #E8F0FE;\n",
              "      border: none;\n",
              "      border-radius: 50%;\n",
              "      cursor: pointer;\n",
              "      display: none;\n",
              "      fill: #1967D2;\n",
              "      height: 32px;\n",
              "      padding: 0 0 0 0;\n",
              "      width: 32px;\n",
              "    }\n",
              "\n",
              "    .colab-df-convert:hover {\n",
              "      background-color: #E2EBFA;\n",
              "      box-shadow: 0px 1px 2px rgba(60, 64, 67, 0.3), 0px 1px 3px 1px rgba(60, 64, 67, 0.15);\n",
              "      fill: #174EA6;\n",
              "    }\n",
              "\n",
              "    [theme=dark] .colab-df-convert {\n",
              "      background-color: #3B4455;\n",
              "      fill: #D2E3FC;\n",
              "    }\n",
              "\n",
              "    [theme=dark] .colab-df-convert:hover {\n",
              "      background-color: #434B5C;\n",
              "      box-shadow: 0px 1px 3px 1px rgba(0, 0, 0, 0.15);\n",
              "      filter: drop-shadow(0px 1px 2px rgba(0, 0, 0, 0.3));\n",
              "      fill: #FFFFFF;\n",
              "    }\n",
              "  </style>\n",
              "\n",
              "      <script>\n",
              "        const buttonEl =\n",
              "          document.querySelector('#df-aeff900d-311a-4e77-8e50-3eda54616a11 button.colab-df-convert');\n",
              "        buttonEl.style.display =\n",
              "          google.colab.kernel.accessAllowed ? 'block' : 'none';\n",
              "\n",
              "        async function convertToInteractive(key) {\n",
              "          const element = document.querySelector('#df-aeff900d-311a-4e77-8e50-3eda54616a11');\n",
              "          const dataTable =\n",
              "            await google.colab.kernel.invokeFunction('convertToInteractive',\n",
              "                                                     [key], {});\n",
              "          if (!dataTable) return;\n",
              "\n",
              "          const docLinkHtml = 'Like what you see? Visit the ' +\n",
              "            '<a target=\"_blank\" href=https://colab.research.google.com/notebooks/data_table.ipynb>data table notebook</a>'\n",
              "            + ' to learn more about interactive tables.';\n",
              "          element.innerHTML = '';\n",
              "          dataTable['output_type'] = 'display_data';\n",
              "          await google.colab.output.renderOutput(dataTable, element);\n",
              "          const docLink = document.createElement('div');\n",
              "          docLink.innerHTML = docLinkHtml;\n",
              "          element.appendChild(docLink);\n",
              "        }\n",
              "      </script>\n",
              "    </div>\n",
              "  </div>\n",
              "  "
            ]
          },
          "metadata": {},
          "execution_count": 38
        }
      ]
    },
    {
      "cell_type": "code",
      "source": [
        "train_ft.columns"
      ],
      "metadata": {
        "colab": {
          "base_uri": "https://localhost:8080/"
        },
        "id": "dBYlgJ5ss1p3",
        "outputId": "85638ffd-9d22-4dc0-d01d-8d826f857fea"
      },
      "execution_count": null,
      "outputs": [
        {
          "output_type": "execute_result",
          "data": {
            "text/plain": [
              "Index(['가입기간', '한달요금', '총지불요금', '가입기간_약정기간_비율', '총지불요금_편차',\n",
              "       '다중회선여부_인터넷백업서비스사용여부', 'count_성별', 'count_고령자여부', 'count_기혼여부',\n",
              "       'count_부양가족여부', 'count_집전화이용여부', 'count_다중회선여부', 'count_인터넷이용방식',\n",
              "       'count_인터넷보안서비스사용여부', 'count_인터넷백업서비스사용여부', 'count_기기방화벽서비스사용여부',\n",
              "       'count_인터넷기술지원서비스사용여부', 'count_스트리밍TV여부', 'count_스트리밍영화여부',\n",
              "       'count_약정기간', 'count_지로여부', 'count_지불방법', 'count_스TV_스영화',\n",
              "       'count_부가서비스_5종', 'count_전자_가중치', 'count_고령자여부_기혼여부',\n",
              "       'count_고령자여부_부양가족여부', 'count_기혼여부_부양가족여부', 'count_집전화이용여부_다중회선여부',\n",
              "       'count_집전화이용여부_인터넷이용방식', 'count_집전화이용여부_인터넷보안서비스사용여부',\n",
              "       'count_집전화이용여부_인터넷백업서비스사용여부', 'count_집전화이용여부_기기방화벽서비스사용여부',\n",
              "       'count_다중회선여부_인터넷이용방식', 'count_다중회선여부_인터넷보안서비스사용여부',\n",
              "       'count_다중회선여부_기기방화벽서비스사용여부', 'count_인터넷이용방식_인터넷보안서비스사용여부',\n",
              "       'count_인터넷이용방식_인터넷백업서비스사용여부', 'count_인터넷이용방식_기기방화벽서비스사용여부',\n",
              "       'count_인터넷보안서비스사용여부_인터넷백업서비스사용여부', 'count_인터넷보안서비스사용여부_기기방화벽서비스사용여부',\n",
              "       'count_인터넷백업서비스사용여부_기기방화벽서비스사용여부'],\n",
              "      dtype='object')"
            ]
          },
          "metadata": {},
          "execution_count": 39
        }
      ]
    },
    {
      "cell_type": "code",
      "source": [
        "target = train['이탈여부']\n",
        "target"
      ],
      "metadata": {
        "colab": {
          "base_uri": "https://localhost:8080/"
        },
        "id": "XG7vi4wgZlpJ",
        "outputId": "db11b3a3-51e6-45a4-e7ce-41f77a0ada66"
      },
      "execution_count": null,
      "outputs": [
        {
          "output_type": "execute_result",
          "data": {
            "text/plain": [
              "0       0\n",
              "1       1\n",
              "2       1\n",
              "3       0\n",
              "4       1\n",
              "       ..\n",
              "4925    0\n",
              "4926    0\n",
              "4927    0\n",
              "4928    0\n",
              "4929    0\n",
              "Name: 이탈여부, Length: 4930, dtype: int64"
            ]
          },
          "metadata": {},
          "execution_count": 40
        }
      ]
    },
    {
      "cell_type": "code",
      "source": [
        "from sklearn.preprocessing import StandardScaler\n",
        "scaler = StandardScaler()\n",
        "\n",
        "\n",
        "# 학습데이터\n",
        "train_ft = pd.DataFrame(\n",
        "    scaler.fit_transform(train_ft),\n",
        "    columns = train_ft.columns\n",
        ")\n",
        "\n",
        "# 테스트 데이터\n",
        "test_ft = pd.DataFrame(\n",
        "    scaler.transform(test_ft),\n",
        "    columns = test_ft.columns\n",
        ")"
      ],
      "metadata": {
        "id": "B6ycRnK2Ulqx"
      },
      "execution_count": null,
      "outputs": []
    },
    {
      "cell_type": "markdown",
      "source": [
        "# 모델 학습및 교차 검증"
      ],
      "metadata": {
        "id": "YeaecbA4n9Ko"
      }
    },
    {
      "cell_type": "code",
      "source": [
        "from sklearn.model_selection import cross_val_score\n",
        "from sklearn.linear_model import LogisticRegression\n",
        "from sklearn.model_selection import KFold\n",
        "cv = KFold(n_splits=5,shuffle=True, random_state=SEED)\n",
        "\n",
        "model = LogisticRegression(random_state=SEED)\n",
        "scores = cross_val_score(model,train_ft,target,cv = cv ,scoring='roc_auc',n_jobs = -1)\n",
        "print(scores)\n",
        "print(np.mean(scores))"
      ],
      "metadata": {
        "colab": {
          "base_uri": "https://localhost:8080/"
        },
        "id": "qdbloOO69dP2",
        "outputId": "45cad391-4b46-4fc8-bae4-76bacdeb6e0c"
      },
      "execution_count": null,
      "outputs": [
        {
          "output_type": "stream",
          "name": "stdout",
          "text": [
            "[0.84476245 0.83806567 0.84833178 0.84182592 0.8501684 ]\n",
            "0.844630843088517\n"
          ]
        }
      ]
    },
    {
      "cell_type": "code",
      "source": [
        "!pip install lightgbm"
      ],
      "metadata": {
        "colab": {
          "base_uri": "https://localhost:8080/"
        },
        "id": "ewVxhZEK6Zre",
        "outputId": "05eeadda-7109-44c9-a07c-a6b9c949c9d7"
      },
      "execution_count": null,
      "outputs": [
        {
          "output_type": "stream",
          "name": "stdout",
          "text": [
            "Looking in indexes: https://pypi.org/simple, https://us-python.pkg.dev/colab-wheels/public/simple/\n",
            "Requirement already satisfied: lightgbm in /usr/local/lib/python3.10/dist-packages (3.3.5)\n",
            "Requirement already satisfied: wheel in /usr/local/lib/python3.10/dist-packages (from lightgbm) (0.40.0)\n",
            "Requirement already satisfied: numpy in /usr/local/lib/python3.10/dist-packages (from lightgbm) (1.22.4)\n",
            "Requirement already satisfied: scipy in /usr/local/lib/python3.10/dist-packages (from lightgbm) (1.10.1)\n",
            "Requirement already satisfied: scikit-learn!=0.22.0 in /usr/local/lib/python3.10/dist-packages (from lightgbm) (1.2.2)\n",
            "Requirement already satisfied: joblib>=1.1.1 in /usr/local/lib/python3.10/dist-packages (from scikit-learn!=0.22.0->lightgbm) (1.2.0)\n",
            "Requirement already satisfied: threadpoolctl>=2.0.0 in /usr/local/lib/python3.10/dist-packages (from scikit-learn!=0.22.0->lightgbm) (3.1.0)\n"
          ]
        }
      ]
    },
    {
      "cell_type": "code",
      "source": [
        "#확정\n",
        "from lightgbm import LGBMClassifier\n",
        "\n",
        "lg_params ={'n_estimators': 155,\n",
        " 'num_leaves': 4,\n",
        " 'min_child_samples': 14,\n",
        " 'learning_rate': 0.0664146308967687,\n",
        " 'log_max_bin': 6,\n",
        " 'colsample_bytree': 0.8650285897953071,\n",
        " 'reg_alpha': 0.09383471573160347,\n",
        " 'reg_lambda': 0.09005695217909274}\n",
        "\n",
        "model = LGBMClassifier(**lg_params)\n",
        "scores = cross_val_score(model, train_ft, target, cv=cv, scoring='roc_auc', n_jobs=-1)\n",
        "print(scores)\n",
        "print(np.mean(scores))"
      ],
      "metadata": {
        "colab": {
          "base_uri": "https://localhost:8080/"
        },
        "id": "ro0tcwPn6ZoV",
        "outputId": "2f31788b-743a-4944-951f-acbdb9431e0e"
      },
      "execution_count": null,
      "outputs": [
        {
          "output_type": "stream",
          "name": "stdout",
          "text": [
            "[0.84599019 0.84588377 0.85016036 0.84141178 0.85328894]\n",
            "0.8473470056856705\n"
          ]
        }
      ]
    },
    {
      "cell_type": "code",
      "source": [
        "from sklearn.ensemble import ExtraTreesClassifier\n",
        "\n",
        "et_params = {\n",
        "    \"random_state\": 42,\n",
        "    \"n_estimators\": 960,\n",
        "    \"max_depth\": 8\n",
        "}\n",
        "\n",
        "\n",
        "model = ExtraTreesClassifier(**et_params)\n",
        "scores = cross_val_score(model, train_ft, target, cv=cv, scoring='roc_auc', n_jobs=-1)\n",
        "print(scores)\n",
        "print(np.mean(scores))"
      ],
      "metadata": {
        "colab": {
          "base_uri": "https://localhost:8080/"
        },
        "id": "E8eBSNND6Zcn",
        "outputId": "f5f2375c-cfe6-4534-f80a-e64adc846fce"
      },
      "execution_count": null,
      "outputs": [
        {
          "output_type": "stream",
          "name": "stdout",
          "text": [
            "[0.83855598 0.83432795 0.84628854 0.84279588 0.84742294]\n",
            "0.8418782576067347\n"
          ]
        }
      ]
    },
    {
      "cell_type": "code",
      "source": [
        "from sklearn.ensemble import AdaBoostClassifier\n",
        "\n",
        "ab_params = {\n",
        "    \"random_state\": 42,\n",
        "    \"n_estimators\": 300,\n",
        "    \"learning_rate\": 0.06\n",
        "}\n",
        "\n",
        "model = AdaBoostClassifier(**ab_params)\n",
        "scores = cross_val_score(model, train_ft, target, cv=cv, scoring='roc_auc', n_jobs=-1)\n",
        "print(scores)\n",
        "print(np.mean(scores))"
      ],
      "metadata": {
        "colab": {
          "base_uri": "https://localhost:8080/"
        },
        "id": "AGETXhCP6Zag",
        "outputId": "65336330-ee67-4ef6-e0ca-77f0e7f21160"
      },
      "execution_count": null,
      "outputs": [
        {
          "output_type": "stream",
          "name": "stdout",
          "text": [
            "[0.84743204 0.84638723 0.85027157 0.84396201 0.85187538]\n",
            "0.847985645441834\n"
          ]
        }
      ]
    },
    {
      "cell_type": "code",
      "source": [
        "from sklearn.ensemble import GradientBoostingClassifier\n",
        "\n",
        "gb_params ={\n",
        "    \"random_state\" : 42,\n",
        "    \"n_estimators\": 198,\n",
        "    \"learning_rate\": 0.06,\n",
        "    \"max_depth\" : 2\n",
        "}\n",
        "\n",
        "model = GradientBoostingClassifier(**gb_params)\n",
        "scores = cross_val_score(model, train_ft, target, cv=cv, scoring='roc_auc', n_jobs=-1)\n",
        "print(scores)\n",
        "print(np.mean(scores))"
      ],
      "metadata": {
        "colab": {
          "base_uri": "https://localhost:8080/"
        },
        "id": "6X8WPym66ZXY",
        "outputId": "739f152b-8949-4509-c90d-d24ac6e75cda"
      },
      "execution_count": null,
      "outputs": [
        {
          "output_type": "stream",
          "name": "stdout",
          "text": [
            "[0.84561617 0.84786861 0.85009052 0.84058895 0.8548071 ]\n",
            "0.8477942714243907\n"
          ]
        }
      ]
    },
    {
      "cell_type": "code",
      "source": [
        "from sklearn.model_selection import cross_val_score\n",
        "from sklearn.ensemble import VotingClassifier\n",
        "\n",
        "\n",
        "\n",
        "et_params = {\n",
        "    \"random_state\": 42,\n",
        "    \"n_estimators\": 221,\n",
        "    \"max_depth\": 8\n",
        "}\n",
        "\n",
        "ab_params = {\n",
        "    \"random_state\": 42,\n",
        "    \"n_estimators\": 300,\n",
        "    \"learning_rate\": 0.06\n",
        "}\n",
        "\n",
        "gb_params ={\n",
        "    \"random_state\" : 42,\n",
        "    \"n_estimators\": 198,\n",
        "    \"learning_rate\": 0.06,\n",
        "    \"max_depth\" : 2\n",
        "}\n",
        "\n",
        "\n",
        "estimators = [\n",
        "\n",
        "              (\"lr\", LogisticRegression(random_state=SEED)),\n",
        "              (\"et\", ExtraTreesClassifier(**et_params)),\n",
        "              (\"ab\", AdaBoostClassifier(**ab_params)),\n",
        "              (\"gb\",GradientBoostingClassifier(**gb_params))\n",
        "\n",
        "]\n",
        "\n",
        "\n",
        "params ={\n",
        "    \"estimators\" : estimators,\n",
        "    \"voting\" : \"soft\" ,\n",
        "    \"n_jobs\" : -1\n",
        "}\n",
        "\n",
        "model = VotingClassifier(**params)\n",
        "scores = cross_val_score(model,train_ft,target,cv = cv ,scoring='roc_auc',n_jobs = -1)\n",
        "print(scores)\n",
        "np.mean(scores)"
      ],
      "metadata": {
        "colab": {
          "base_uri": "https://localhost:8080/"
        },
        "id": "oh9paZkn6ZS2",
        "outputId": "9179004d-7901-4dff-851e-64aa855c35c5"
      },
      "execution_count": null,
      "outputs": [
        {
          "output_type": "stream",
          "name": "stdout",
          "text": [
            "[0.84665962 0.84512463 0.85178719 0.84576025 0.85521535]\n"
          ]
        },
        {
          "output_type": "execute_result",
          "data": {
            "text/plain": [
              "0.8489094067768391"
            ]
          },
          "metadata": {},
          "execution_count": 47
        }
      ]
    },
    {
      "cell_type": "markdown",
      "source": [
        "#모델학습"
      ],
      "metadata": {
        "id": "sRAdHS5dB1kQ"
      }
    },
    {
      "cell_type": "code",
      "source": [
        "model = VotingClassifier(**params)\n",
        "model.fit(train_ft,target)"
      ],
      "metadata": {
        "colab": {
          "base_uri": "https://localhost:8080/",
          "height": 108
        },
        "id": "6I6RQp3Q3SOA",
        "outputId": "569f2d77-ff23-45f4-a050-5ba0d124ca4c"
      },
      "execution_count": null,
      "outputs": [
        {
          "output_type": "execute_result",
          "data": {
            "text/plain": [
              "VotingClassifier(estimators=[('lr', LogisticRegression(random_state=42)),\n",
              "                             ('et',\n",
              "                              ExtraTreesClassifier(max_depth=8,\n",
              "                                                   n_estimators=221,\n",
              "                                                   random_state=42)),\n",
              "                             ('ab',\n",
              "                              AdaBoostClassifier(learning_rate=0.06,\n",
              "                                                 n_estimators=300,\n",
              "                                                 random_state=42)),\n",
              "                             ('gb',\n",
              "                              GradientBoostingClassifier(learning_rate=0.06,\n",
              "                                                         max_depth=2,\n",
              "                                                         n_estimators=198,\n",
              "                                                         random_state=42))],\n",
              "                 n_jobs=-1, voting='soft')"
            ],
            "text/html": [
              "<style>#sk-container-id-1 {color: black;background-color: white;}#sk-container-id-1 pre{padding: 0;}#sk-container-id-1 div.sk-toggleable {background-color: white;}#sk-container-id-1 label.sk-toggleable__label {cursor: pointer;display: block;width: 100%;margin-bottom: 0;padding: 0.3em;box-sizing: border-box;text-align: center;}#sk-container-id-1 label.sk-toggleable__label-arrow:before {content: \"▸\";float: left;margin-right: 0.25em;color: #696969;}#sk-container-id-1 label.sk-toggleable__label-arrow:hover:before {color: black;}#sk-container-id-1 div.sk-estimator:hover label.sk-toggleable__label-arrow:before {color: black;}#sk-container-id-1 div.sk-toggleable__content {max-height: 0;max-width: 0;overflow: hidden;text-align: left;background-color: #f0f8ff;}#sk-container-id-1 div.sk-toggleable__content pre {margin: 0.2em;color: black;border-radius: 0.25em;background-color: #f0f8ff;}#sk-container-id-1 input.sk-toggleable__control:checked~div.sk-toggleable__content {max-height: 200px;max-width: 100%;overflow: auto;}#sk-container-id-1 input.sk-toggleable__control:checked~label.sk-toggleable__label-arrow:before {content: \"▾\";}#sk-container-id-1 div.sk-estimator input.sk-toggleable__control:checked~label.sk-toggleable__label {background-color: #d4ebff;}#sk-container-id-1 div.sk-label input.sk-toggleable__control:checked~label.sk-toggleable__label {background-color: #d4ebff;}#sk-container-id-1 input.sk-hidden--visually {border: 0;clip: rect(1px 1px 1px 1px);clip: rect(1px, 1px, 1px, 1px);height: 1px;margin: -1px;overflow: hidden;padding: 0;position: absolute;width: 1px;}#sk-container-id-1 div.sk-estimator {font-family: monospace;background-color: #f0f8ff;border: 1px dotted black;border-radius: 0.25em;box-sizing: border-box;margin-bottom: 0.5em;}#sk-container-id-1 div.sk-estimator:hover {background-color: #d4ebff;}#sk-container-id-1 div.sk-parallel-item::after {content: \"\";width: 100%;border-bottom: 1px solid gray;flex-grow: 1;}#sk-container-id-1 div.sk-label:hover label.sk-toggleable__label {background-color: #d4ebff;}#sk-container-id-1 div.sk-serial::before {content: \"\";position: absolute;border-left: 1px solid gray;box-sizing: border-box;top: 0;bottom: 0;left: 50%;z-index: 0;}#sk-container-id-1 div.sk-serial {display: flex;flex-direction: column;align-items: center;background-color: white;padding-right: 0.2em;padding-left: 0.2em;position: relative;}#sk-container-id-1 div.sk-item {position: relative;z-index: 1;}#sk-container-id-1 div.sk-parallel {display: flex;align-items: stretch;justify-content: center;background-color: white;position: relative;}#sk-container-id-1 div.sk-item::before, #sk-container-id-1 div.sk-parallel-item::before {content: \"\";position: absolute;border-left: 1px solid gray;box-sizing: border-box;top: 0;bottom: 0;left: 50%;z-index: -1;}#sk-container-id-1 div.sk-parallel-item {display: flex;flex-direction: column;z-index: 1;position: relative;background-color: white;}#sk-container-id-1 div.sk-parallel-item:first-child::after {align-self: flex-end;width: 50%;}#sk-container-id-1 div.sk-parallel-item:last-child::after {align-self: flex-start;width: 50%;}#sk-container-id-1 div.sk-parallel-item:only-child::after {width: 0;}#sk-container-id-1 div.sk-dashed-wrapped {border: 1px dashed gray;margin: 0 0.4em 0.5em 0.4em;box-sizing: border-box;padding-bottom: 0.4em;background-color: white;}#sk-container-id-1 div.sk-label label {font-family: monospace;font-weight: bold;display: inline-block;line-height: 1.2em;}#sk-container-id-1 div.sk-label-container {text-align: center;}#sk-container-id-1 div.sk-container {/* jupyter's `normalize.less` sets `[hidden] { display: none; }` but bootstrap.min.css set `[hidden] { display: none !important; }` so we also need the `!important` here to be able to override the default hidden behavior on the sphinx rendered scikit-learn.org. See: https://github.com/scikit-learn/scikit-learn/issues/21755 */display: inline-block !important;position: relative;}#sk-container-id-1 div.sk-text-repr-fallback {display: none;}</style><div id=\"sk-container-id-1\" class=\"sk-top-container\"><div class=\"sk-text-repr-fallback\"><pre>VotingClassifier(estimators=[(&#x27;lr&#x27;, LogisticRegression(random_state=42)),\n",
              "                             (&#x27;et&#x27;,\n",
              "                              ExtraTreesClassifier(max_depth=8,\n",
              "                                                   n_estimators=221,\n",
              "                                                   random_state=42)),\n",
              "                             (&#x27;ab&#x27;,\n",
              "                              AdaBoostClassifier(learning_rate=0.06,\n",
              "                                                 n_estimators=300,\n",
              "                                                 random_state=42)),\n",
              "                             (&#x27;gb&#x27;,\n",
              "                              GradientBoostingClassifier(learning_rate=0.06,\n",
              "                                                         max_depth=2,\n",
              "                                                         n_estimators=198,\n",
              "                                                         random_state=42))],\n",
              "                 n_jobs=-1, voting=&#x27;soft&#x27;)</pre><b>In a Jupyter environment, please rerun this cell to show the HTML representation or trust the notebook. <br />On GitHub, the HTML representation is unable to render, please try loading this page with nbviewer.org.</b></div><div class=\"sk-container\" hidden><div class=\"sk-item sk-dashed-wrapped\"><div class=\"sk-label-container\"><div class=\"sk-label sk-toggleable\"><input class=\"sk-toggleable__control sk-hidden--visually\" id=\"sk-estimator-id-1\" type=\"checkbox\" ><label for=\"sk-estimator-id-1\" class=\"sk-toggleable__label sk-toggleable__label-arrow\">VotingClassifier</label><div class=\"sk-toggleable__content\"><pre>VotingClassifier(estimators=[(&#x27;lr&#x27;, LogisticRegression(random_state=42)),\n",
              "                             (&#x27;et&#x27;,\n",
              "                              ExtraTreesClassifier(max_depth=8,\n",
              "                                                   n_estimators=221,\n",
              "                                                   random_state=42)),\n",
              "                             (&#x27;ab&#x27;,\n",
              "                              AdaBoostClassifier(learning_rate=0.06,\n",
              "                                                 n_estimators=300,\n",
              "                                                 random_state=42)),\n",
              "                             (&#x27;gb&#x27;,\n",
              "                              GradientBoostingClassifier(learning_rate=0.06,\n",
              "                                                         max_depth=2,\n",
              "                                                         n_estimators=198,\n",
              "                                                         random_state=42))],\n",
              "                 n_jobs=-1, voting=&#x27;soft&#x27;)</pre></div></div></div><div class=\"sk-parallel\"><div class=\"sk-parallel-item\"><div class=\"sk-item\"><div class=\"sk-label-container\"><div class=\"sk-label sk-toggleable\"><label>lr</label></div></div><div class=\"sk-serial\"><div class=\"sk-item\"><div class=\"sk-estimator sk-toggleable\"><input class=\"sk-toggleable__control sk-hidden--visually\" id=\"sk-estimator-id-2\" type=\"checkbox\" ><label for=\"sk-estimator-id-2\" class=\"sk-toggleable__label sk-toggleable__label-arrow\">LogisticRegression</label><div class=\"sk-toggleable__content\"><pre>LogisticRegression(random_state=42)</pre></div></div></div></div></div></div><div class=\"sk-parallel-item\"><div class=\"sk-item\"><div class=\"sk-label-container\"><div class=\"sk-label sk-toggleable\"><label>et</label></div></div><div class=\"sk-serial\"><div class=\"sk-item\"><div class=\"sk-estimator sk-toggleable\"><input class=\"sk-toggleable__control sk-hidden--visually\" id=\"sk-estimator-id-3\" type=\"checkbox\" ><label for=\"sk-estimator-id-3\" class=\"sk-toggleable__label sk-toggleable__label-arrow\">ExtraTreesClassifier</label><div class=\"sk-toggleable__content\"><pre>ExtraTreesClassifier(max_depth=8, n_estimators=221, random_state=42)</pre></div></div></div></div></div></div><div class=\"sk-parallel-item\"><div class=\"sk-item\"><div class=\"sk-label-container\"><div class=\"sk-label sk-toggleable\"><label>ab</label></div></div><div class=\"sk-serial\"><div class=\"sk-item\"><div class=\"sk-estimator sk-toggleable\"><input class=\"sk-toggleable__control sk-hidden--visually\" id=\"sk-estimator-id-4\" type=\"checkbox\" ><label for=\"sk-estimator-id-4\" class=\"sk-toggleable__label sk-toggleable__label-arrow\">AdaBoostClassifier</label><div class=\"sk-toggleable__content\"><pre>AdaBoostClassifier(learning_rate=0.06, n_estimators=300, random_state=42)</pre></div></div></div></div></div></div><div class=\"sk-parallel-item\"><div class=\"sk-item\"><div class=\"sk-label-container\"><div class=\"sk-label sk-toggleable\"><label>gb</label></div></div><div class=\"sk-serial\"><div class=\"sk-item\"><div class=\"sk-estimator sk-toggleable\"><input class=\"sk-toggleable__control sk-hidden--visually\" id=\"sk-estimator-id-5\" type=\"checkbox\" ><label for=\"sk-estimator-id-5\" class=\"sk-toggleable__label sk-toggleable__label-arrow\">GradientBoostingClassifier</label><div class=\"sk-toggleable__content\"><pre>GradientBoostingClassifier(learning_rate=0.06, max_depth=2, n_estimators=198,\n",
              "                           random_state=42)</pre></div></div></div></div></div></div></div></div></div></div>"
            ]
          },
          "metadata": {},
          "execution_count": 49
        }
      ]
    },
    {
      "cell_type": "markdown",
      "source": [
        "#테스트 데이터 예측"
      ],
      "metadata": {
        "id": "93SUUTjpB60w"
      }
    },
    {
      "cell_type": "code",
      "source": [
        "pred = model.predict_proba(test_ft)[:,1]\n",
        "pred"
      ],
      "metadata": {
        "colab": {
          "base_uri": "https://localhost:8080/"
        },
        "id": "3X48kcC4tQLz",
        "outputId": "264e93b5-a18c-42fa-ce62-7696c496ddd4"
      },
      "execution_count": null,
      "outputs": [
        {
          "output_type": "execute_result",
          "data": {
            "text/plain": [
              "array([0.60946194, 0.20200334, 0.48528895, ..., 0.11482707, 0.12870833,\n",
              "       0.55321999])"
            ]
          },
          "metadata": {},
          "execution_count": 50
        }
      ]
    },
    {
      "cell_type": "markdown",
      "source": [
        "# 평가를 위한 제출 파일 생성\n",
        "- sample_submission.csv 파일을 불러와서 예측 결과를 target 컬럼에 넣어 csv 파일로 저장후에 제출한다."
      ],
      "metadata": {
        "id": "-cXPJJZSqEZa"
      }
    },
    {
      "cell_type": "code",
      "source": [
        "submit = pd.read_csv(f\"{DATA_PATH}sample_submission.csv\")\n",
        "submit"
      ],
      "metadata": {
        "id": "u164OiKcZL1G",
        "colab": {
          "base_uri": "https://localhost:8080/",
          "height": 423
        },
        "outputId": "2e742731-e0dd-4177-85ec-68f60b670e64"
      },
      "execution_count": null,
      "outputs": [
        {
          "output_type": "execute_result",
          "data": {
            "text/plain": [
              "             ID  target\n",
              "0        test_0     0.5\n",
              "1        test_1     0.5\n",
              "2        test_2     0.5\n",
              "3        test_3     0.5\n",
              "4        test_4     0.5\n",
              "...         ...     ...\n",
              "2108  test_2108     0.5\n",
              "2109  test_2109     0.5\n",
              "2110  test_2110     0.5\n",
              "2111  test_2111     0.5\n",
              "2112  test_2112     0.5\n",
              "\n",
              "[2113 rows x 2 columns]"
            ],
            "text/html": [
              "\n",
              "  <div id=\"df-d5edf903-c730-4f24-b4b4-fa2c5bd47969\">\n",
              "    <div class=\"colab-df-container\">\n",
              "      <div>\n",
              "<style scoped>\n",
              "    .dataframe tbody tr th:only-of-type {\n",
              "        vertical-align: middle;\n",
              "    }\n",
              "\n",
              "    .dataframe tbody tr th {\n",
              "        vertical-align: top;\n",
              "    }\n",
              "\n",
              "    .dataframe thead th {\n",
              "        text-align: right;\n",
              "    }\n",
              "</style>\n",
              "<table border=\"1\" class=\"dataframe\">\n",
              "  <thead>\n",
              "    <tr style=\"text-align: right;\">\n",
              "      <th></th>\n",
              "      <th>ID</th>\n",
              "      <th>target</th>\n",
              "    </tr>\n",
              "  </thead>\n",
              "  <tbody>\n",
              "    <tr>\n",
              "      <th>0</th>\n",
              "      <td>test_0</td>\n",
              "      <td>0.5</td>\n",
              "    </tr>\n",
              "    <tr>\n",
              "      <th>1</th>\n",
              "      <td>test_1</td>\n",
              "      <td>0.5</td>\n",
              "    </tr>\n",
              "    <tr>\n",
              "      <th>2</th>\n",
              "      <td>test_2</td>\n",
              "      <td>0.5</td>\n",
              "    </tr>\n",
              "    <tr>\n",
              "      <th>3</th>\n",
              "      <td>test_3</td>\n",
              "      <td>0.5</td>\n",
              "    </tr>\n",
              "    <tr>\n",
              "      <th>4</th>\n",
              "      <td>test_4</td>\n",
              "      <td>0.5</td>\n",
              "    </tr>\n",
              "    <tr>\n",
              "      <th>...</th>\n",
              "      <td>...</td>\n",
              "      <td>...</td>\n",
              "    </tr>\n",
              "    <tr>\n",
              "      <th>2108</th>\n",
              "      <td>test_2108</td>\n",
              "      <td>0.5</td>\n",
              "    </tr>\n",
              "    <tr>\n",
              "      <th>2109</th>\n",
              "      <td>test_2109</td>\n",
              "      <td>0.5</td>\n",
              "    </tr>\n",
              "    <tr>\n",
              "      <th>2110</th>\n",
              "      <td>test_2110</td>\n",
              "      <td>0.5</td>\n",
              "    </tr>\n",
              "    <tr>\n",
              "      <th>2111</th>\n",
              "      <td>test_2111</td>\n",
              "      <td>0.5</td>\n",
              "    </tr>\n",
              "    <tr>\n",
              "      <th>2112</th>\n",
              "      <td>test_2112</td>\n",
              "      <td>0.5</td>\n",
              "    </tr>\n",
              "  </tbody>\n",
              "</table>\n",
              "<p>2113 rows × 2 columns</p>\n",
              "</div>\n",
              "      <button class=\"colab-df-convert\" onclick=\"convertToInteractive('df-d5edf903-c730-4f24-b4b4-fa2c5bd47969')\"\n",
              "              title=\"Convert this dataframe to an interactive table.\"\n",
              "              style=\"display:none;\">\n",
              "        \n",
              "  <svg xmlns=\"http://www.w3.org/2000/svg\" height=\"24px\"viewBox=\"0 0 24 24\"\n",
              "       width=\"24px\">\n",
              "    <path d=\"M0 0h24v24H0V0z\" fill=\"none\"/>\n",
              "    <path d=\"M18.56 5.44l.94 2.06.94-2.06 2.06-.94-2.06-.94-.94-2.06-.94 2.06-2.06.94zm-11 1L8.5 8.5l.94-2.06 2.06-.94-2.06-.94L8.5 2.5l-.94 2.06-2.06.94zm10 10l.94 2.06.94-2.06 2.06-.94-2.06-.94-.94-2.06-.94 2.06-2.06.94z\"/><path d=\"M17.41 7.96l-1.37-1.37c-.4-.4-.92-.59-1.43-.59-.52 0-1.04.2-1.43.59L10.3 9.45l-7.72 7.72c-.78.78-.78 2.05 0 2.83L4 21.41c.39.39.9.59 1.41.59.51 0 1.02-.2 1.41-.59l7.78-7.78 2.81-2.81c.8-.78.8-2.07 0-2.86zM5.41 20L4 18.59l7.72-7.72 1.47 1.35L5.41 20z\"/>\n",
              "  </svg>\n",
              "      </button>\n",
              "      \n",
              "  <style>\n",
              "    .colab-df-container {\n",
              "      display:flex;\n",
              "      flex-wrap:wrap;\n",
              "      gap: 12px;\n",
              "    }\n",
              "\n",
              "    .colab-df-convert {\n",
              "      background-color: #E8F0FE;\n",
              "      border: none;\n",
              "      border-radius: 50%;\n",
              "      cursor: pointer;\n",
              "      display: none;\n",
              "      fill: #1967D2;\n",
              "      height: 32px;\n",
              "      padding: 0 0 0 0;\n",
              "      width: 32px;\n",
              "    }\n",
              "\n",
              "    .colab-df-convert:hover {\n",
              "      background-color: #E2EBFA;\n",
              "      box-shadow: 0px 1px 2px rgba(60, 64, 67, 0.3), 0px 1px 3px 1px rgba(60, 64, 67, 0.15);\n",
              "      fill: #174EA6;\n",
              "    }\n",
              "\n",
              "    [theme=dark] .colab-df-convert {\n",
              "      background-color: #3B4455;\n",
              "      fill: #D2E3FC;\n",
              "    }\n",
              "\n",
              "    [theme=dark] .colab-df-convert:hover {\n",
              "      background-color: #434B5C;\n",
              "      box-shadow: 0px 1px 3px 1px rgba(0, 0, 0, 0.15);\n",
              "      filter: drop-shadow(0px 1px 2px rgba(0, 0, 0, 0.3));\n",
              "      fill: #FFFFFF;\n",
              "    }\n",
              "  </style>\n",
              "\n",
              "      <script>\n",
              "        const buttonEl =\n",
              "          document.querySelector('#df-d5edf903-c730-4f24-b4b4-fa2c5bd47969 button.colab-df-convert');\n",
              "        buttonEl.style.display =\n",
              "          google.colab.kernel.accessAllowed ? 'block' : 'none';\n",
              "\n",
              "        async function convertToInteractive(key) {\n",
              "          const element = document.querySelector('#df-d5edf903-c730-4f24-b4b4-fa2c5bd47969');\n",
              "          const dataTable =\n",
              "            await google.colab.kernel.invokeFunction('convertToInteractive',\n",
              "                                                     [key], {});\n",
              "          if (!dataTable) return;\n",
              "\n",
              "          const docLinkHtml = 'Like what you see? Visit the ' +\n",
              "            '<a target=\"_blank\" href=https://colab.research.google.com/notebooks/data_table.ipynb>data table notebook</a>'\n",
              "            + ' to learn more about interactive tables.';\n",
              "          element.innerHTML = '';\n",
              "          dataTable['output_type'] = 'display_data';\n",
              "          await google.colab.output.renderOutput(dataTable, element);\n",
              "          const docLink = document.createElement('div');\n",
              "          docLink.innerHTML = docLinkHtml;\n",
              "          element.appendChild(docLink);\n",
              "        }\n",
              "      </script>\n",
              "    </div>\n",
              "  </div>\n",
              "  "
            ]
          },
          "metadata": {},
          "execution_count": 51
        }
      ]
    },
    {
      "cell_type": "code",
      "source": [
        "submit[\"target\"] = pred\n",
        "submit"
      ],
      "metadata": {
        "id": "0Wk6dcjLofAg",
        "colab": {
          "base_uri": "https://localhost:8080/",
          "height": 423
        },
        "outputId": "a96dfbe2-3955-44d5-bc38-9d1b02406efe"
      },
      "execution_count": null,
      "outputs": [
        {
          "output_type": "execute_result",
          "data": {
            "text/plain": [
              "             ID    target\n",
              "0        test_0  0.609462\n",
              "1        test_1  0.202003\n",
              "2        test_2  0.485289\n",
              "3        test_3  0.179126\n",
              "4        test_4  0.449892\n",
              "...         ...       ...\n",
              "2108  test_2108  0.544038\n",
              "2109  test_2109  0.168645\n",
              "2110  test_2110  0.114827\n",
              "2111  test_2111  0.128708\n",
              "2112  test_2112  0.553220\n",
              "\n",
              "[2113 rows x 2 columns]"
            ],
            "text/html": [
              "\n",
              "  <div id=\"df-a06464ea-7d96-4597-8e2b-45d09fd6e3af\">\n",
              "    <div class=\"colab-df-container\">\n",
              "      <div>\n",
              "<style scoped>\n",
              "    .dataframe tbody tr th:only-of-type {\n",
              "        vertical-align: middle;\n",
              "    }\n",
              "\n",
              "    .dataframe tbody tr th {\n",
              "        vertical-align: top;\n",
              "    }\n",
              "\n",
              "    .dataframe thead th {\n",
              "        text-align: right;\n",
              "    }\n",
              "</style>\n",
              "<table border=\"1\" class=\"dataframe\">\n",
              "  <thead>\n",
              "    <tr style=\"text-align: right;\">\n",
              "      <th></th>\n",
              "      <th>ID</th>\n",
              "      <th>target</th>\n",
              "    </tr>\n",
              "  </thead>\n",
              "  <tbody>\n",
              "    <tr>\n",
              "      <th>0</th>\n",
              "      <td>test_0</td>\n",
              "      <td>0.609462</td>\n",
              "    </tr>\n",
              "    <tr>\n",
              "      <th>1</th>\n",
              "      <td>test_1</td>\n",
              "      <td>0.202003</td>\n",
              "    </tr>\n",
              "    <tr>\n",
              "      <th>2</th>\n",
              "      <td>test_2</td>\n",
              "      <td>0.485289</td>\n",
              "    </tr>\n",
              "    <tr>\n",
              "      <th>3</th>\n",
              "      <td>test_3</td>\n",
              "      <td>0.179126</td>\n",
              "    </tr>\n",
              "    <tr>\n",
              "      <th>4</th>\n",
              "      <td>test_4</td>\n",
              "      <td>0.449892</td>\n",
              "    </tr>\n",
              "    <tr>\n",
              "      <th>...</th>\n",
              "      <td>...</td>\n",
              "      <td>...</td>\n",
              "    </tr>\n",
              "    <tr>\n",
              "      <th>2108</th>\n",
              "      <td>test_2108</td>\n",
              "      <td>0.544038</td>\n",
              "    </tr>\n",
              "    <tr>\n",
              "      <th>2109</th>\n",
              "      <td>test_2109</td>\n",
              "      <td>0.168645</td>\n",
              "    </tr>\n",
              "    <tr>\n",
              "      <th>2110</th>\n",
              "      <td>test_2110</td>\n",
              "      <td>0.114827</td>\n",
              "    </tr>\n",
              "    <tr>\n",
              "      <th>2111</th>\n",
              "      <td>test_2111</td>\n",
              "      <td>0.128708</td>\n",
              "    </tr>\n",
              "    <tr>\n",
              "      <th>2112</th>\n",
              "      <td>test_2112</td>\n",
              "      <td>0.553220</td>\n",
              "    </tr>\n",
              "  </tbody>\n",
              "</table>\n",
              "<p>2113 rows × 2 columns</p>\n",
              "</div>\n",
              "      <button class=\"colab-df-convert\" onclick=\"convertToInteractive('df-a06464ea-7d96-4597-8e2b-45d09fd6e3af')\"\n",
              "              title=\"Convert this dataframe to an interactive table.\"\n",
              "              style=\"display:none;\">\n",
              "        \n",
              "  <svg xmlns=\"http://www.w3.org/2000/svg\" height=\"24px\"viewBox=\"0 0 24 24\"\n",
              "       width=\"24px\">\n",
              "    <path d=\"M0 0h24v24H0V0z\" fill=\"none\"/>\n",
              "    <path d=\"M18.56 5.44l.94 2.06.94-2.06 2.06-.94-2.06-.94-.94-2.06-.94 2.06-2.06.94zm-11 1L8.5 8.5l.94-2.06 2.06-.94-2.06-.94L8.5 2.5l-.94 2.06-2.06.94zm10 10l.94 2.06.94-2.06 2.06-.94-2.06-.94-.94-2.06-.94 2.06-2.06.94z\"/><path d=\"M17.41 7.96l-1.37-1.37c-.4-.4-.92-.59-1.43-.59-.52 0-1.04.2-1.43.59L10.3 9.45l-7.72 7.72c-.78.78-.78 2.05 0 2.83L4 21.41c.39.39.9.59 1.41.59.51 0 1.02-.2 1.41-.59l7.78-7.78 2.81-2.81c.8-.78.8-2.07 0-2.86zM5.41 20L4 18.59l7.72-7.72 1.47 1.35L5.41 20z\"/>\n",
              "  </svg>\n",
              "      </button>\n",
              "      \n",
              "  <style>\n",
              "    .colab-df-container {\n",
              "      display:flex;\n",
              "      flex-wrap:wrap;\n",
              "      gap: 12px;\n",
              "    }\n",
              "\n",
              "    .colab-df-convert {\n",
              "      background-color: #E8F0FE;\n",
              "      border: none;\n",
              "      border-radius: 50%;\n",
              "      cursor: pointer;\n",
              "      display: none;\n",
              "      fill: #1967D2;\n",
              "      height: 32px;\n",
              "      padding: 0 0 0 0;\n",
              "      width: 32px;\n",
              "    }\n",
              "\n",
              "    .colab-df-convert:hover {\n",
              "      background-color: #E2EBFA;\n",
              "      box-shadow: 0px 1px 2px rgba(60, 64, 67, 0.3), 0px 1px 3px 1px rgba(60, 64, 67, 0.15);\n",
              "      fill: #174EA6;\n",
              "    }\n",
              "\n",
              "    [theme=dark] .colab-df-convert {\n",
              "      background-color: #3B4455;\n",
              "      fill: #D2E3FC;\n",
              "    }\n",
              "\n",
              "    [theme=dark] .colab-df-convert:hover {\n",
              "      background-color: #434B5C;\n",
              "      box-shadow: 0px 1px 3px 1px rgba(0, 0, 0, 0.15);\n",
              "      filter: drop-shadow(0px 1px 2px rgba(0, 0, 0, 0.3));\n",
              "      fill: #FFFFFF;\n",
              "    }\n",
              "  </style>\n",
              "\n",
              "      <script>\n",
              "        const buttonEl =\n",
              "          document.querySelector('#df-a06464ea-7d96-4597-8e2b-45d09fd6e3af button.colab-df-convert');\n",
              "        buttonEl.style.display =\n",
              "          google.colab.kernel.accessAllowed ? 'block' : 'none';\n",
              "\n",
              "        async function convertToInteractive(key) {\n",
              "          const element = document.querySelector('#df-a06464ea-7d96-4597-8e2b-45d09fd6e3af');\n",
              "          const dataTable =\n",
              "            await google.colab.kernel.invokeFunction('convertToInteractive',\n",
              "                                                     [key], {});\n",
              "          if (!dataTable) return;\n",
              "\n",
              "          const docLinkHtml = 'Like what you see? Visit the ' +\n",
              "            '<a target=\"_blank\" href=https://colab.research.google.com/notebooks/data_table.ipynb>data table notebook</a>'\n",
              "            + ' to learn more about interactive tables.';\n",
              "          element.innerHTML = '';\n",
              "          dataTable['output_type'] = 'display_data';\n",
              "          await google.colab.output.renderOutput(dataTable, element);\n",
              "          const docLink = document.createElement('div');\n",
              "          docLink.innerHTML = docLinkHtml;\n",
              "          element.appendChild(docLink);\n",
              "        }\n",
              "      </script>\n",
              "    </div>\n",
              "  </div>\n",
              "  "
            ]
          },
          "metadata": {},
          "execution_count": 52
        }
      ]
    },
    {
      "cell_type": "markdown",
      "source": [
        "- 예측 결과를 csv 파일로 저장하여 제출"
      ],
      "metadata": {
        "id": "8mgZ7mjS54d9"
      }
    },
    {
      "cell_type": "code",
      "source": [
        "submit.to_csv(f\"{DATA_PATH}50th_try_test_submit.csv\",index=False) # 인덱스는 제외하기 위해 False"
      ],
      "metadata": {
        "id": "qRzHf4m7oe8p"
      },
      "execution_count": null,
      "outputs": []
    },
    {
      "cell_type": "code",
      "source": [],
      "metadata": {
        "id": "L1oz0IZukyVL"
      },
      "execution_count": null,
      "outputs": []
    }
  ]
}